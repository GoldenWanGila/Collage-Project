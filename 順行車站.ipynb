{
  "nbformat": 4,
  "nbformat_minor": 0,
  "metadata": {
    "colab": {
      "name": "順行車站.ipynb",
      "provenance": [],
      "collapsed_sections": [],
      "authorship_tag": "ABX9TyOVf1xGshhTQ+TQxpGQbSvI",
      "include_colab_link": true
    },
    "kernelspec": {
      "name": "python3",
      "display_name": "Python 3"
    },
    "language_info": {
      "name": "python"
    }
  },
  "cells": [
    {
      "cell_type": "markdown",
      "metadata": {
        "id": "view-in-github",
        "colab_type": "text"
      },
      "source": [
        "<a href=\"https://colab.research.google.com/github/GoldenWanGila/Collage-Project/blob/master/%E9%A0%86%E8%A1%8C%E8%BB%8A%E7%AB%99.ipynb\" target=\"_parent\"><img src=\"https://colab.research.google.com/assets/colab-badge.svg\" alt=\"Open In Colab\"/></a>"
      ]
    },
    {
      "cell_type": "code",
      "metadata": {
        "colab": {
          "base_uri": "https://localhost:8080/"
        },
        "id": "bLgsWK2obBAp",
        "outputId": "2ecc22fb-7713-41ca-906f-f4239b98baac"
      },
      "source": [
        "from google.colab import drive\n",
        "drive.mount('/content/drive')"
      ],
      "execution_count": 41,
      "outputs": [
        {
          "output_type": "stream",
          "text": [
            "Drive already mounted at /content/drive; to attempt to forcibly remount, call drive.mount(\"/content/drive\", force_remount=True).\n"
          ],
          "name": "stdout"
        }
      ]
    },
    {
      "cell_type": "code",
      "metadata": {
        "colab": {
          "base_uri": "https://localhost:8080/"
        },
        "id": "W_rl1N1VaxUA",
        "outputId": "8d5bff78-3ec1-4385-a718-0d25755ac5fe"
      },
      "source": [
        "import matplotlib.pyplot as plt\n",
        "from numpy.core import numeric\n",
        "import seaborn as sns; sns.set()\n",
        "import matplotlib as mpl\n",
        "import xgboost as xgb\n",
        "import numpy as np\n",
        "import pandas as pd\n",
        "import sklearn.linear_model\n",
        "import os\n",
        "from sklearn.metrics import mean_squared_error\n",
        "from math import sqrt\n",
        "from sklearn.datasets import make_classification\n",
        "from sklearn.linear_model import LinearRegression\n",
        "from sklearn.ensemble import RandomForestRegressor\n",
        "from sklearn.metrics import r2_score\n",
        "raill = pd.read_csv(\"/content/drive/MyDrive/railway.csv\")\n",
        "raill = raill.dropna()\n",
        "print(raill)\n",
        "raill = raill[raill[\"direction\"]==1]\n",
        "rail = pd.read_csv(\"/content/drive/MyDrive/railway_weekday_weedend.csv\")\n",
        "rail = rail.dropna()\n",
        "rail = rail[rail[\"direction\"]==1]\n",
        "rail.sort_values(by=[\"time\",\"date\"],inplace=True)\n",
        "listlist = [\"2021/02/10\",\"2021/02/11\",\"2021/02/12\",\"2021/02/13\",\"2021/02/14\",\"2021/02/15\",\"2021/02/16\",\"2021/04/02\",\"2021/04/03\",\"2021/04/04\",\"2021/04/05\",\"2021/02/26\",\"2021/02/27\",\"2021/02/28\",\"2021/03/01\"]\n",
        "railh = raill[raill[\"date\"].isin(listlist)]\n",
        "rail = rail[rail[\"date\"]>='2021/01/22']\n",
        "rail = rail[rail[\"date\"]!=\"2021/04/02\"]\n",
        "rail = rail[rail[\"date\"]!=\"2021/04/03\"]\n",
        "rail = rail[rail[\"date\"]!=\"2020/12/23\"]\n",
        "jj = rail[rail[\"date\"]==\"weekday\"]\n",
        "kk = rail[rail[\"date\"]==\"weekend\"]"
      ],
      "execution_count": 42,
      "outputs": [
        {
          "output_type": "stream",
          "text": [
            "          Station  direction  id        date  ...   num        dest delay  type\n",
            "0         Zhongli          0   1  2021/01/20  ...  1287     Zhongli   1.0     D\n",
            "1         Zhongli          0   2  2021/01/20  ...  1109     Hsinchu   1.0     D\n",
            "2         Zhongli          0   3  2021/01/20  ...  2011    Changhua   0.0     D\n",
            "3         Zhongli          0   4  2021/01/20  ...  1107      Miaoli   0.0     D\n",
            "4         Zhongli          0   5  2021/01/20  ...  2133      Chiayi   0.0     D\n",
            "...           ...        ...  ..         ...  ...   ...         ...   ...   ...\n",
            "321014  Kaohsiung          1  92  2021/04/06  ...  3088  Xinzuoying   1.0     D\n",
            "321015  Kaohsiung          1  93  2021/04/06  ...  3292      Tainan   0.0     D\n",
            "321016  Kaohsiung          1  94  2021/04/06  ...  3294      Tainan   0.0     D\n",
            "321017  Kaohsiung          1  95  2021/04/06  ...   332  Xinzuoying   0.0     B\n",
            "321018  Kaohsiung          1  96  2021/04/06  ...  3348  Xinzuoying   0.0     D\n",
            "\n",
            "[319726 rows x 9 columns]\n"
          ],
          "name": "stdout"
        }
      ]
    },
    {
      "cell_type": "code",
      "metadata": {
        "id": "NXXHfvGeBQRY"
      },
      "source": [
        "a = jj[jj[\"type\"]==\"A\"]\n",
        "b = jj[jj[\"type\"]==\"B\"]\n",
        "c = jj[jj[\"type\"]==\"C\"]\n",
        "d = jj[jj[\"type\"]==\"D\"]\n",
        "ak = kk[kk[\"type\"]==\"A\"]\n",
        "bk = kk[kk[\"type\"]==\"B\"]\n",
        "ck = kk[kk[\"type\"]==\"C\"]\n",
        "dk = kk[kk[\"type\"]==\"D\"]\n",
        "ah = railh[railh[\"type\"]==\"A\"]\n",
        "bh = railh[railh[\"type\"]==\"B\"]\n",
        "ch = railh[railh[\"type\"]==\"C\"]\n",
        "dh = railh[railh[\"type\"]==\"D\"]"
      ],
      "execution_count": 43,
      "outputs": []
    },
    {
      "cell_type": "code",
      "metadata": {
        "colab": {
          "base_uri": "https://localhost:8080/"
        },
        "id": "5CKf2Lg_urQ8",
        "outputId": "b0d17c2a-8249-4952-e727-cfa3abf8b9bc"
      },
      "source": [
        "atp = a[a[\"Station\"]==\"Taipei\"]\n",
        "print(atp[\"delay\"].mean())\n",
        "btp = b[b[\"Station\"]==\"Taipei\"]\n",
        "print(btp[\"delay\"].mean())\n",
        "dtp = d[d[\"Station\"]==\"Taipei\"]\n",
        "print(dtp[\"delay\"].mean())\n",
        "\n",
        "atpk = ak[ak[\"Station\"]==\"Taipei\"]\n",
        "print(atpk[\"delay\"].mean())\n",
        "btpk = bk[bk[\"Station\"]==\"Taipei\"]\n",
        "print(btpk[\"delay\"].mean())\n",
        "dtpk = dk[dk[\"Station\"]==\"Taipei\"]\n",
        "print(dtp[\"delay\"].mean())\n",
        "\n",
        "atph = ah[ah[\"Station\"]==\"Taipei\"]\n",
        "print(atph[\"delay\"].mean())\n",
        "btph = bh[bh[\"Station\"]==\"Taipei\"]\n",
        "print(btph[\"delay\"].mean())\n",
        "dtph = dh[dh[\"Station\"]==\"Taipei\"]\n",
        "print(dtph[\"delay\"].mean())"
      ],
      "execution_count": 44,
      "outputs": [
        {
          "output_type": "stream",
          "text": [
            "1.1421356421356421\n",
            "1.8835136855506047\n",
            "1.6\n",
            "1.8065573770491803\n",
            "3.9345509893455097\n",
            "1.6\n",
            "2.8156028368794326\n",
            "4.503118503118503\n",
            "6.014716703458426\n"
          ],
          "name": "stdout"
        }
      ]
    },
    {
      "cell_type": "code",
      "metadata": {
        "colab": {
          "base_uri": "https://localhost:8080/"
        },
        "id": "2JpeinQx1dlR",
        "outputId": "929d18e1-6a18-471c-9b5c-b21c21656273"
      },
      "source": [
        "abq = a[a[\"Station\"]==\"Banqiao\"]\n",
        "print(abq[\"delay\"].mean())\n",
        "bbq = b[b[\"Station\"]==\"Banqiao\"]\n",
        "print(bbq[\"delay\"].mean())\n",
        "dbq = d[d[\"Station\"]==\"Banqiao\"]\n",
        "print(dbq[\"delay\"].mean())\n",
        "\n",
        "abqk = ak[ak[\"Station\"]==\"Banqiao\"]\n",
        "print(abqk[\"delay\"].mean())\n",
        "bbqk = bk[bk[\"Station\"]==\"Banqiao\"]\n",
        "print(bbqk[\"delay\"].mean())\n",
        "dbqk = dk[dk[\"Station\"]==\"Banqiao\"]\n",
        "print(dbq[\"delay\"].mean())\n",
        "\n",
        "abqh = ah[ah[\"Station\"]==\"Banqiao\"]\n",
        "print(abqh[\"delay\"].mean())\n",
        "bbqh = bh[bh[\"Station\"]==\"Banqiao\"]\n",
        "print(bbqh[\"delay\"].mean())\n",
        "dbqh = dh[dh[\"Station\"]==\"Banqiao\"]\n",
        "print(dbqh[\"delay\"].mean())"
      ],
      "execution_count": 45,
      "outputs": [
        {
          "output_type": "stream",
          "text": [
            "1.7402597402597402\n",
            "2.770700636942675\n",
            "2.426930693069307\n",
            "2.378688524590164\n",
            "4.545731707317073\n",
            "2.426930693069307\n",
            "3.3286052009456264\n",
            "5.222453222453223\n",
            "6.833701250919794\n"
          ],
          "name": "stdout"
        }
      ]
    },
    {
      "cell_type": "code",
      "metadata": {
        "colab": {
          "base_uri": "https://localhost:8080/"
        },
        "id": "9tJADZTD2KcS",
        "outputId": "148faf70-818e-48c5-f0c4-2067e5040391"
      },
      "source": [
        "aty = a[a[\"Station\"]==\"Taoyuan\"]\n",
        "print(aty[\"delay\"].mean())\n",
        "bty = b[b[\"Station\"]==\"Taoyuan\"]\n",
        "print(bty[\"delay\"].mean())\n",
        "dty = d[d[\"Station\"]==\"Taoyuan\"]\n",
        "print(dty[\"delay\"].mean())\n",
        "\n",
        "atyk = ak[ak[\"Station\"]==\"Taoyuan\"]\n",
        "print(atyk[\"delay\"].mean())\n",
        "btyk = bk[bk[\"Station\"]==\"Taoyuan\"]\n",
        "print(btyk[\"delay\"].mean())\n",
        "dtyk = dk[dk[\"Station\"]==\"Taoyuan\"]\n",
        "print(dty[\"delay\"].mean())\n",
        "\n",
        "atyh = ah[ah[\"Station\"]==\"Taoyuan\"]\n",
        "print(atyh[\"delay\"].mean())\n",
        "btyh = bh[bh[\"Station\"]==\"Taoyuan\"]\n",
        "print(btyh[\"delay\"].mean())\n",
        "dtyh = dh[dh[\"Station\"]==\"Taoyuan\"]\n",
        "print(dtyh[\"delay\"].mean())"
      ],
      "execution_count": 46,
      "outputs": [
        {
          "output_type": "stream",
          "text": [
            "3.418181818181818\n",
            "2.710017574692443\n",
            "1.752851711026616\n",
            "2.723076923076923\n",
            "3.898706896551724\n",
            "1.752851711026616\n",
            "6.113636363636363\n",
            "4.233644859813084\n",
            "4.665665665665665\n"
          ],
          "name": "stdout"
        }
      ]
    },
    {
      "cell_type": "code",
      "metadata": {
        "colab": {
          "base_uri": "https://localhost:8080/"
        },
        "id": "uL67E-g-2eBc",
        "outputId": "61cee608-fed3-43f6-b869-d35cf83a43e6"
      },
      "source": [
        "azl = a[a[\"Station\"]==\"Zhongli\"]\n",
        "print(azl[\"delay\"].mean())\n",
        "bzl = b[b[\"Station\"]==\"Zhongli\"]\n",
        "print(bzl[\"delay\"].mean())\n",
        "dzl = d[d[\"Station\"]==\"Zhongli\"]\n",
        "print(dzl[\"delay\"].mean())\n",
        "\n",
        "azlk = ak[ak[\"Station\"]==\"Zhongli\"]\n",
        "print(azlk[\"delay\"].mean())\n",
        "bzlk = bk[bk[\"Station\"]==\"Zhongli\"]\n",
        "print(bzlk[\"delay\"].mean())\n",
        "dzlk = dk[dk[\"Station\"]==\"Zhongli\"]\n",
        "print(dzl[\"delay\"].mean())\n",
        "\n",
        "azlh = ah[ah[\"Station\"]==\"Zhongli\"]\n",
        "print(azlh[\"delay\"].mean())\n",
        "bzlh = bh[bh[\"Station\"]==\"Zhongli\"]\n",
        "print(bzlh[\"delay\"].mean())\n",
        "dzlh = dh[dh[\"Station\"]==\"Zhongli\"]\n",
        "print(dzlh[\"delay\"].mean())"
      ],
      "execution_count": 47,
      "outputs": [
        {
          "output_type": "stream",
          "text": [
            "2.709090909090909\n",
            "2.0826010544815468\n",
            "1.5093715545755237\n",
            "1.5116279069767442\n",
            "3.1422413793103448\n",
            "1.5093715545755237\n",
            "6.758620689655173\n",
            "3.4517133956386292\n",
            "4.1138211382113825\n"
          ],
          "name": "stdout"
        }
      ]
    },
    {
      "cell_type": "code",
      "metadata": {
        "colab": {
          "base_uri": "https://localhost:8080/"
        },
        "id": "yuMZxW2a2jUE",
        "outputId": "00379e30-89ce-424a-ebc1-a2d7de7df484"
      },
      "source": [
        "ahs = a[a[\"Station\"]==\"Hsinchu\"]\n",
        "print(ahs[\"delay\"].mean())\n",
        "bhs = b[b[\"Station\"]==\"Hsinchu\"]\n",
        "print(bhs[\"delay\"].mean())\n",
        "dhs = d[d[\"Station\"]==\"Hsinchu\"]\n",
        "print(dhs[\"delay\"].mean())\n",
        "\n",
        "ahsk = ak[ak[\"Station\"]==\"Hsinchu\"]\n",
        "print(ahsk[\"delay\"].mean())\n",
        "bhsk = bk[bk[\"Station\"]==\"Hsinchu\"]\n",
        "print(bhsk[\"delay\"].mean())\n",
        "dhsk = dk[dk[\"Station\"]==\"Hsinchu\"]\n",
        "print(dhs[\"delay\"].mean())\n",
        "\n",
        "ahsh = ah[ah[\"Station\"]==\"Hsinchu\"]\n",
        "print(ahsh[\"delay\"].mean())\n",
        "bhsh = bh[bh[\"Station\"]==\"Hsinchu\"]\n",
        "print(bhsh[\"delay\"].mean())\n",
        "dhsh = dh[dh[\"Station\"]==\"Hsinchu\"]\n",
        "print(dhsh[\"delay\"].mean())"
      ],
      "execution_count": 48,
      "outputs": [
        {
          "output_type": "stream",
          "text": [
            "2.1132075471698113\n",
            "1.6960873521383075\n",
            "1.1606288448393711\n",
            "1.523076923076923\n",
            "2.4655172413793105\n",
            "1.1606288448393711\n",
            "4.386363636363637\n",
            "2.5171339563862927\n",
            "2.4058997050147495\n"
          ],
          "name": "stdout"
        }
      ]
    },
    {
      "cell_type": "code",
      "metadata": {
        "colab": {
          "base_uri": "https://localhost:8080/"
        },
        "id": "oCt9nwSz2pwG",
        "outputId": "a523d3a9-1996-4f39-fa90-cad43f8add4b"
      },
      "source": [
        "azn = a[a[\"Station\"]==\"Zhunan\"]\n",
        "print(azn[\"delay\"].mean())\n",
        "bzn = b[b[\"Station\"]==\"Zhunan\"]\n",
        "print(bzn[\"delay\"].mean())\n",
        "dzn = d[d[\"Station\"]==\"Zhunan\"]\n",
        "print(dzn[\"delay\"].mean())\n",
        "\n",
        "aznk = ak[ak[\"Station\"]==\"Zhunan\"]\n",
        "print(aznk[\"delay\"].mean())\n",
        "bznk = bk[bk[\"Station\"]==\"Zhunan\"]\n",
        "print(bznk[\"delay\"].mean())\n",
        "dznk = dk[dk[\"Station\"]==\"Zhunan\"]\n",
        "print(dzn[\"delay\"].mean())\n",
        "\n",
        "aznh = ah[ah[\"Station\"]==\"Zhunan\"]\n",
        "print(aznh[\"delay\"].mean())\n",
        "bznh = bh[bh[\"Station\"]==\"Zhunan\"]\n",
        "print(bznh[\"delay\"].mean())\n",
        "dznh = dh[dh[\"Station\"]==\"Zhunan\"]\n",
        "print(dznh[\"delay\"].mean())"
      ],
      "execution_count": 49,
      "outputs": [
        {
          "output_type": "stream",
          "text": [
            "0.38181818181818183\n",
            "1.7721021611001964\n",
            "1.2386223862238623\n",
            "0.19047619047619047\n",
            "2.54278728606357\n",
            "1.2386223862238623\n",
            "0.35714285714285715\n",
            "2.56140350877193\n",
            "2.8627232142857144\n"
          ],
          "name": "stdout"
        }
      ]
    },
    {
      "cell_type": "code",
      "metadata": {
        "colab": {
          "base_uri": "https://localhost:8080/"
        },
        "id": "tXcS-dfz28a9",
        "outputId": "8508907a-8f9b-44dd-c287-0a92a10a48f4"
      },
      "source": [
        "aml = a[a[\"Station\"]==\"Miaoli\"]\n",
        "print(aml[\"delay\"].mean())\n",
        "bml = b[b[\"Station\"]==\"Miaoli\"]\n",
        "print(bml[\"delay\"].mean())\n",
        "dml = d[d[\"Station\"]==\"Miaoli\"]\n",
        "print(dml[\"delay\"].mean())\n",
        "\n",
        "amlk = ak[ak[\"Station\"]==\"Miaoli\"]\n",
        "print(amlk[\"delay\"].mean())\n",
        "bmlk = bk[bk[\"Station\"]==\"Miaoli\"]\n",
        "print(bmlk[\"delay\"].mean())\n",
        "dmlk = dk[dk[\"Station\"]==\"Miaoli\"]\n",
        "print(dml[\"delay\"].mean())\n",
        "\n",
        "amlh = ah[ah[\"Station\"]==\"Miaoli\"]\n",
        "print(amlh[\"delay\"].mean())\n",
        "bmlh = bh[bh[\"Station\"]==\"Miaoli\"]\n",
        "print(bmlh[\"delay\"].mean())\n",
        "dmlh = dh[dh[\"Station\"]==\"Miaoli\"]\n",
        "print(dmlh[\"delay\"].mean())"
      ],
      "execution_count": 50,
      "outputs": [
        {
          "output_type": "stream",
          "text": [
            "0.08737864077669903\n",
            "1.3112513144058886\n",
            "1.1047144152311876\n",
            "0.35714285714285715\n",
            "2.1197916666666665\n",
            "1.1047144152311876\n",
            "0.03333333333333333\n",
            "2.0830188679245283\n",
            "2.949263502454992\n"
          ],
          "name": "stdout"
        }
      ]
    },
    {
      "cell_type": "code",
      "metadata": {
        "id": "9LZ-vZxOuh9L"
      },
      "source": [
        "label_map = {'Keelung':1,'Xizhi':2,'Taipei':3,'Banqiao':4,'Taoyuan':5,'Zhongli':6,'Hsinchu':7,'Zhunan':8,'Miaoli':9,'Fengyuan':10,'Taichung':11,'Changhua':12,'Yuanlin':13,\n",
        "'Douliu':14,'Chiayi':15,'Tainan':16,'Xinzuoying':17,'Kaohsiung':18,'Tanzi':0,'Taiyuan':0,'Xinwuri':0}"
      ],
      "execution_count": 51,
      "outputs": []
    },
    {
      "cell_type": "code",
      "metadata": {
        "colab": {
          "base_uri": "https://localhost:8080/"
        },
        "id": "zoDcOBbi3Ece",
        "outputId": "1498d01c-929a-46c3-f121-a43efbbf3c9b"
      },
      "source": [
        "afy = a[a[\"Station\"]==\"Fengyuan\"]\n",
        "print(afy[\"delay\"].mean())\n",
        "bfy = b[b[\"Station\"]==\"Fengyuan\"]\n",
        "print(bfy[\"delay\"].mean())\n",
        "dfy = d[d[\"Station\"]==\"Fengyuan\"]\n",
        "print(dfy[\"delay\"].mean())\n",
        "\n",
        "afyk = ak[ak[\"Station\"]==\"Fengyuan\"]\n",
        "print(afyk[\"delay\"].mean())\n",
        "bfyk = bk[bk[\"Station\"]==\"Fengyuan\"]\n",
        "print(bfyk[\"delay\"].mean())\n",
        "dfyk = dk[dk[\"Station\"]==\"Fengyuan\"]\n",
        "print(dfy[\"delay\"].mean())\n",
        "\n",
        "afyh = ah[ah[\"Station\"]==\"Fengyuan\"]\n",
        "print(afyh[\"delay\"].mean())\n",
        "bfyh = bh[bh[\"Station\"]==\"Fengyuan\"]\n",
        "print(bfyh[\"delay\"].mean())\n",
        "dfyh = dh[dh[\"Station\"]==\"Fengyuan\"]\n",
        "print(dfyh[\"delay\"].mean())"
      ],
      "execution_count": 52,
      "outputs": [
        {
          "output_type": "stream",
          "text": [
            "1.0846560846560847\n",
            "1.7640449438202248\n",
            "0.9229494614747308\n",
            "0.27631578947368424\n",
            "2.064794816414687\n",
            "0.9229494614747308\n",
            "3.5555555555555554\n",
            "2.624\n",
            "1.4464285714285714\n"
          ],
          "name": "stdout"
        }
      ]
    },
    {
      "cell_type": "code",
      "metadata": {
        "colab": {
          "base_uri": "https://localhost:8080/"
        },
        "id": "t2cloN793K_U",
        "outputId": "f1caf91e-b239-4441-e8fd-c8217e2a53de"
      },
      "source": [
        "atc = a[a[\"Station\"]==\"Taichung\"]\n",
        "print(atc[\"delay\"].mean())\n",
        "btc = b[b[\"Station\"]==\"Taichung\"]\n",
        "print(btc[\"delay\"].mean())\n",
        "dtc = d[d[\"Station\"]==\"Taichung\"]\n",
        "print(dtc[\"delay\"].mean())\n",
        "\n",
        "atck = ak[ak[\"Station\"]==\"Taichung\"]\n",
        "print(atck[\"delay\"].mean())\n",
        "btck = bk[bk[\"Station\"]==\"Taichung\"]\n",
        "print(btck[\"delay\"].mean())\n",
        "dtck = dk[dk[\"Station\"]==\"Taichung\"]\n",
        "print(dtc[\"delay\"].mean())\n",
        "\n",
        "atch = ah[ah[\"Station\"]==\"Taichung\"]\n",
        "print(atch[\"delay\"].mean())\n",
        "btch = bh[bh[\"Station\"]==\"Taichung\"]\n",
        "print(btch[\"delay\"].mean())\n",
        "dtch = dh[dh[\"Station\"]==\"Taichung\"]\n",
        "print(dtch[\"delay\"].mean())"
      ],
      "execution_count": 53,
      "outputs": [
        {
          "output_type": "stream",
          "text": [
            "1.108761329305136\n",
            "1.6397718011409943\n",
            "1.0299512421639192\n",
            "0.5984848484848485\n",
            "2.1038696537678208\n",
            "1.0299512421639192\n",
            "2.3866666666666667\n",
            "2.3245283018867924\n",
            "1.5107991360691144\n"
          ],
          "name": "stdout"
        }
      ]
    },
    {
      "cell_type": "code",
      "metadata": {
        "colab": {
          "base_uri": "https://localhost:8080/"
        },
        "id": "6rNUvKXC3QpM",
        "outputId": "5fde7e10-cca9-4cdf-fae1-d27ae0f8f9b6"
      },
      "source": [
        "ach = a[a[\"Station\"]==\"Changhua\"]\n",
        "print(ach[\"delay\"].mean())\n",
        "bch = b[b[\"Station\"]==\"Changhua\"]\n",
        "print(bch[\"delay\"].mean())\n",
        "dch = d[d[\"Station\"]==\"Changhua\"]\n",
        "print(dch[\"delay\"].mean())\n",
        "\n",
        "achk = ak[ak[\"Station\"]==\"Changhua\"]\n",
        "print(achk[\"delay\"].mean())\n",
        "bchk = bk[bk[\"Station\"]==\"Changhua\"]\n",
        "print(bchk[\"delay\"].mean())\n",
        "dchk = dk[dk[\"Station\"]==\"Changhua\"]\n",
        "print(dch[\"delay\"].mean())\n",
        "\n",
        "achh = ah[ah[\"Station\"]==\"Changhua\"]\n",
        "print(achh[\"delay\"].mean())\n",
        "bchh = bh[bh[\"Station\"]==\"Changhua\"]\n",
        "print(bchh[\"delay\"].mean())\n",
        "dchh = dh[dh[\"Station\"]==\"Changhua\"]\n",
        "print(dchh[\"delay\"].mean())"
      ],
      "execution_count": 54,
      "outputs": [
        {
          "output_type": "stream",
          "text": [
            "1.0141342756183747\n",
            "2.2247964934251723\n",
            "0.9860356865787432\n",
            "0.3063063063063063\n",
            "2.428792569659443\n",
            "0.9860356865787432\n",
            "2.9322033898305087\n",
            "2.735042735042735\n",
            "1.274864376130199\n"
          ],
          "name": "stdout"
        }
      ]
    },
    {
      "cell_type": "code",
      "metadata": {
        "colab": {
          "base_uri": "https://localhost:8080/"
        },
        "id": "F6PnLux33afb",
        "outputId": "4863070c-464b-40bb-d016-cbe7678d3702"
      },
      "source": [
        "ayl = a[a[\"Station\"]==\"Yuanlin\"]\n",
        "print(ayl[\"delay\"].mean())\n",
        "byl = b[b[\"Station\"]==\"Yuanlin\"]\n",
        "print(byl[\"delay\"].mean())\n",
        "dyl = d[d[\"Station\"]==\"Yuanlin\"]\n",
        "print(dyl[\"delay\"].mean())\n",
        "\n",
        "aylk = ak[ak[\"Station\"]==\"Yuanlin\"]\n",
        "print(aylk[\"delay\"].mean())\n",
        "bylk = bk[bk[\"Station\"]==\"Yuanlin\"]\n",
        "print(bylk[\"delay\"].mean())\n",
        "dylk = dk[dk[\"Station\"]==\"Yuanlin\"]\n",
        "print(dyl[\"delay\"].mean())\n",
        "\n",
        "aylh = ah[ah[\"Station\"]==\"Yuanlin\"]\n",
        "print(aylh[\"delay\"].mean())\n",
        "bylh = bh[bh[\"Station\"]==\"Yuanlin\"]\n",
        "print(bylh[\"delay\"].mean())\n",
        "dylh = dh[dh[\"Station\"]==\"Yuanlin\"]\n",
        "print(dylh[\"delay\"].mean())"
      ],
      "execution_count": 55,
      "outputs": [
        {
          "output_type": "stream",
          "text": [
            "0.23943661971830985\n",
            "2.090114324142569\n",
            "1.2561211340206186\n",
            "0.09090909090909091\n",
            "2.290015847860539\n",
            "1.2561211340206186\n",
            "0.20689655172413793\n",
            "2.711246200607903\n",
            "1.846969696969697\n"
          ],
          "name": "stdout"
        }
      ]
    },
    {
      "cell_type": "code",
      "metadata": {
        "colab": {
          "base_uri": "https://localhost:8080/"
        },
        "id": "kKLKvDmf3gxm",
        "outputId": "d2312601-0309-491d-813a-ab482b3d7754"
      },
      "source": [
        "adl = a[a[\"Station\"]==\"Douliu\"]\n",
        "print(adl[\"delay\"].mean())\n",
        "bdl = b[b[\"Station\"]==\"Douliu\"]\n",
        "print(bdl[\"delay\"].mean())\n",
        "ddl = d[d[\"Station\"]==\"Douliu\"]\n",
        "print(ddl[\"delay\"].mean())\n",
        "\n",
        "adlk = ak[ak[\"Station\"]==\"Douliu\"]\n",
        "print(adlk[\"delay\"].mean())\n",
        "bdlk = bk[bk[\"Station\"]==\"Douliu\"]\n",
        "print(bdlk[\"delay\"].mean())\n",
        "ddlk = dk[dk[\"Station\"]==\"Douliu\"]\n",
        "print(ddl[\"delay\"].mean())\n",
        "\n",
        "adlh = ah[ah[\"Station\"]==\"Douliu\"]\n",
        "print(adlh[\"delay\"].mean())\n",
        "bdlh = bh[bh[\"Station\"]==\"Douliu\"]\n",
        "print(bdlh[\"delay\"].mean())\n",
        "ddlh = dh[dh[\"Station\"]==\"Douliu\"]\n",
        "print(ddlh[\"delay\"].mean())"
      ],
      "execution_count": 56,
      "outputs": [
        {
          "output_type": "stream",
          "text": [
            "0.4\n",
            "2.5551724137931036\n",
            "1.4377272727272727\n",
            "0.3181818181818182\n",
            "2.734020618556701\n",
            "1.4377272727272727\n",
            "0.3333333333333333\n",
            "3.046153846153846\n",
            "2.0366666666666666\n"
          ],
          "name": "stdout"
        }
      ]
    },
    {
      "cell_type": "code",
      "metadata": {
        "colab": {
          "base_uri": "https://localhost:8080/"
        },
        "id": "QbHIwKpb5ak5",
        "outputId": "33b3e6d8-dfdc-4829-efa8-ddf7d1bf84eb"
      },
      "source": [
        "acy = a[a[\"Station\"]==\"Chiayi\"]\n",
        "print(acy[\"delay\"].mean())\n",
        "bcy = b[b[\"Station\"]==\"Chiayi\"]\n",
        "print(bcy[\"delay\"].mean())\n",
        "dcy = d[d[\"Station\"]==\"Chiayi\"]\n",
        "print(dcy[\"delay\"].mean())\n",
        "\n",
        "acyk = ak[ak[\"Station\"]==\"Chiayi\"]\n",
        "print(acyk[\"delay\"].mean())\n",
        "bcyk = bk[bk[\"Station\"]==\"Chiayi\"]\n",
        "print(bcyk[\"delay\"].mean())\n",
        "dcyk = dk[dk[\"Station\"]==\"Chiayi\"]\n",
        "print(dcy[\"delay\"].mean())\n",
        "\n",
        "acyh = ah[ah[\"Station\"]==\"Chiayi\"]\n",
        "print(acyh[\"delay\"].mean())\n",
        "bcyh = bh[bh[\"Station\"]==\"Chiayi\"]\n",
        "print(bcyh[\"delay\"].mean())\n",
        "dcyh = dh[dh[\"Station\"]==\"Chiayi\"]\n",
        "print(dcyh[\"delay\"].mean())"
      ],
      "execution_count": 57,
      "outputs": [
        {
          "output_type": "stream",
          "text": [
            "1.1818181818181819\n",
            "1.5577586206896552\n",
            "0.8637376631645972\n",
            "1.7727272727272727\n",
            "1.8333333333333333\n",
            "0.8637376631645972\n",
            "2.1333333333333333\n",
            "2.0\n",
            "1.4350877192982456\n"
          ],
          "name": "stdout"
        }
      ]
    },
    {
      "cell_type": "code",
      "metadata": {
        "colab": {
          "base_uri": "https://localhost:8080/"
        },
        "id": "wlNN5DKi6r-e",
        "outputId": "54447e8b-f95b-4af6-918c-ced3434b44d6"
      },
      "source": [
        "atn = a[a[\"Station\"]==\"Tainan\"]\n",
        "print(atn[\"delay\"].mean())\n",
        "btn = b[b[\"Station\"]==\"Tainan\"]\n",
        "print(btn[\"delay\"].mean())\n",
        "dtn = d[d[\"Station\"]==\"Tainan\"]\n",
        "print(dtn[\"delay\"].mean())\n",
        "\n",
        "atnk = ak[ak[\"Station\"]==\"Tainan\"]\n",
        "print(atnk[\"delay\"].mean())\n",
        "btnk = bk[bk[\"Station\"]==\"Tainan\"]\n",
        "print(btnk[\"delay\"].mean())\n",
        "dtnk = dk[dk[\"Station\"]==\"Tainan\"]\n",
        "print(dtn[\"delay\"].mean())\n",
        "\n",
        "atnh = ah[ah[\"Station\"]==\"Tainan\"]\n",
        "print(atnh[\"delay\"].mean())\n",
        "btnh = bh[bh[\"Station\"]==\"Tainan\"]\n",
        "print(btnh[\"delay\"].mean())\n",
        "dtnh = dh[dh[\"Station\"]==\"Tainan\"]\n",
        "print(dtnh[\"delay\"].mean())"
      ],
      "execution_count": 58,
      "outputs": [
        {
          "output_type": "stream",
          "text": [
            "1.290909090909091\n",
            "1.6362068965517242\n",
            "0.765732546705998\n",
            "1.5909090909090908\n",
            "2.2679324894514767\n",
            "0.765732546705998\n",
            "1.5333333333333334\n",
            "1.9937888198757765\n",
            "0.8477477477477477\n"
          ],
          "name": "stdout"
        }
      ]
    },
    {
      "cell_type": "code",
      "metadata": {
        "colab": {
          "base_uri": "https://localhost:8080/"
        },
        "id": "0aVlJkOd626f",
        "outputId": "dbd11c7b-831d-48fd-e429-12b56cd6a1e9"
      },
      "source": [
        "axzy = a[a[\"Station\"]==\"Xinzuoying\"]\n",
        "print(axzy[\"delay\"].mean())\n",
        "bxzy = b[b[\"Station\"]==\"Xinzuoying\"]\n",
        "print(bxzy[\"delay\"].mean())\n",
        "dxzy = d[d[\"Station\"]==\"Xinzuoying\"]\n",
        "print(dxzy[\"delay\"].mean())\n",
        "\n",
        "axzyk = ak[ak[\"Station\"]==\"Xinzuoying\"]\n",
        "print(axzyk[\"delay\"].mean())\n",
        "bxzyk = bk[bk[\"Station\"]==\"Xinzuoying\"]\n",
        "print(bxzyk[\"delay\"].mean())\n",
        "dxzyk = dk[dk[\"Station\"]==\"Xinzuoying\"]\n",
        "print(dxzy[\"delay\"].mean())\n",
        "\n",
        "axzyh = ah[ah[\"Station\"]==\"Xinzuoying\"]\n",
        "print(axzyh[\"delay\"].mean())\n",
        "bxzyh = bh[bh[\"Station\"]==\"Xinzuoying\"]\n",
        "print(bxzyh[\"delay\"].mean())\n",
        "dxzyh = dh[dh[\"Station\"]==\"Xinzuoying\"]\n",
        "print(dxzyh[\"delay\"].mean())"
      ],
      "execution_count": 59,
      "outputs": [
        {
          "output_type": "stream",
          "text": [
            "3.3545454545454545\n",
            "0.9331010452961672\n",
            "0.9130156699712184\n",
            "9.568181818181818\n",
            "1.657331136738056\n",
            "0.9130156699712184\n",
            "9.5\n",
            "1.5955334987593053\n",
            "0.9500594530321046\n"
          ],
          "name": "stdout"
        }
      ]
    },
    {
      "cell_type": "code",
      "metadata": {
        "colab": {
          "base_uri": "https://localhost:8080/"
        },
        "id": "pl8Lh3u67DNm",
        "outputId": "dc4ebb2a-d12f-4b6a-c89c-83e09486b8c4"
      },
      "source": [
        "akh = a[a[\"Station\"]==\"Kaohsiung\"]\n",
        "print(akh[\"delay\"].mean())\n",
        "bkh = b[b[\"Station\"]==\"Kaohsiung\"]\n",
        "print(bkh[\"delay\"].mean())\n",
        "dkh = d[d[\"Station\"]==\"Kaohsiung\"]\n",
        "print(dkh[\"delay\"].mean())\n",
        "\n",
        "akhk = ak[ak[\"Station\"]==\"Kaohsiung\"]\n",
        "print(akhk[\"delay\"].mean())\n",
        "bkhk = bk[bk[\"Station\"]==\"Kaohsiung\"]\n",
        "print(bkhk[\"delay\"].mean())\n",
        "dkhk = dk[dk[\"Station\"]==\"Kaohsiung\"]\n",
        "print(dkh[\"delay\"].mean())\n",
        "\n",
        "akhh = ah[ah[\"Station\"]==\"Kaohsiung\"]\n",
        "print(akhh[\"delay\"].mean())\n",
        "bkhh = bh[bh[\"Station\"]==\"Kaohsiung\"]\n",
        "print(bkhh[\"delay\"].mean())\n",
        "dkhh = dh[dh[\"Station\"]==\"Kaohsiung\"]\n",
        "print(dkhh[\"delay\"].mean())"
      ],
      "execution_count": 60,
      "outputs": [
        {
          "output_type": "stream",
          "text": [
            "1.85\n",
            "0.8034965034965035\n",
            "0.9072593540134314\n",
            "5.056818181818182\n",
            "1.5198019801980198\n",
            "0.9072593540134314\n",
            "5.183333333333334\n",
            "1.4385964912280702\n",
            "0.9239001189060642\n"
          ],
          "name": "stdout"
        }
      ]
    }
  ]
}