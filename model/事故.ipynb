{
  "nbformat": 4,
  "nbformat_minor": 0,
  "metadata": {
    "colab": {
      "name": "事故.ipynb",
      "provenance": [],
      "collapsed_sections": [],
      "mount_file_id": "1I6xhcjo_hELqHc-9T5u8CS6mXulrx4WN",
      "authorship_tag": "ABX9TyPfbJSuONImRKMUgwXzlYTa",
      "include_colab_link": true
    },
    "kernelspec": {
      "name": "python3",
      "display_name": "Python 3"
    },
    "language_info": {
      "name": "python"
    }
  },
  "cells": [
    {
      "cell_type": "markdown",
      "metadata": {
        "id": "view-in-github",
        "colab_type": "text"
      },
      "source": [
        "<a href=\"https://colab.research.google.com/github/GoldenWanGila/Collage-Project/blob/master/%E4%BA%8B%E6%95%85.ipynb\" target=\"_parent\"><img src=\"https://colab.research.google.com/assets/colab-badge.svg\" alt=\"Open In Colab\"/></a>"
      ]
    },
    {
      "cell_type": "code",
      "metadata": {
        "colab": {
          "base_uri": "https://localhost:8080/"
        },
        "id": "k29BdGj-GhYV",
        "outputId": "eda1ac7c-8c2a-4193-d37e-a6566795ff80"
      },
      "source": [
        "from google.colab import drive\n",
        "drive.mount('/content/drive')"
      ],
      "execution_count": 296,
      "outputs": [
        {
          "output_type": "stream",
          "text": [
            "Drive already mounted at /content/drive; to attempt to forcibly remount, call drive.mount(\"/content/drive\", force_remount=True).\n"
          ],
          "name": "stdout"
        }
      ]
    },
    {
      "cell_type": "code",
      "metadata": {
        "id": "Ini3q5AUFS5L"
      },
      "source": [
        "import pandas as pd\n",
        "import numpy as np\n",
        "import matplotlib.pyplot as plt\n",
        "from numpy.core import numeric\n",
        "import seaborn as sns; sns.set()\n",
        "import matplotlib as mpl\n",
        "import sklearn.linear_model\n",
        "import os\n",
        "from sklearn.datasets import make_classification\n",
        "from sklearn.linear_model import LinearRegression\n",
        "from sympy import *\n",
        "import xgboost as xgb\n",
        "from sklearn.metrics import mean_squared_error\n",
        "from math import sqrt\n",
        "pd.set_option('display.max_rows', 110)\n",
        "\n",
        "dataFrame = pd.read_csv('/content/drive/MyDrive/railway.csv')\n"
      ],
      "execution_count": 297,
      "outputs": []
    },
    {
      "cell_type": "code",
      "metadata": {
        "id": "jmsFJ0WA6Dow"
      },
      "source": [
        "#dataFrame.iloc[2525]"
      ],
      "execution_count": 298,
      "outputs": []
    },
    {
      "cell_type": "markdown",
      "metadata": {
        "id": "kj1oEJWM7s-I"
      },
      "source": [
        "**平日早上**\n",
        "**3/15 114次機車故障** https://www.ptt.cc/bbs/Railway/M.1615770150.A.E96.html\n",
        "**台南、嘉義、斗六**"
      ]
    },
    {
      "cell_type": "code",
      "metadata": {
        "colab": {
          "base_uri": "https://localhost:8080/",
          "height": 657
        },
        "id": "KrLSkHbj7sRL",
        "outputId": "e1c0aa56-cc00-4c0e-a996-c42d7968447e"
      },
      "source": [
        "dataFrame_3m15d = dataFrame[dataFrame['date']=='2021/03/15']\n",
        "dataFrame_3m15d_114 = dataFrame_3m15d[dataFrame_3m15d[\"num\"]==114]\n",
        "dataFrame_3m15d_114.sort_values(by=['time'],inplace=True)\n",
        "dataFrame_3m15d_114"
      ],
      "execution_count": 299,
      "outputs": [
        {
          "output_type": "stream",
          "text": [
            "/usr/local/lib/python3.7/dist-packages/ipykernel_launcher.py:3: SettingWithCopyWarning: \n",
            "A value is trying to be set on a copy of a slice from a DataFrame\n",
            "\n",
            "See the caveats in the documentation: https://pandas.pydata.org/pandas-docs/stable/user_guide/indexing.html#returning-a-view-versus-a-copy\n",
            "  This is separate from the ipykernel package so we can avoid doing imports until\n"
          ],
          "name": "stderr"
        },
        {
          "output_type": "execute_result",
          "data": {
            "text/html": [
              "<div>\n",
              "<style scoped>\n",
              "    .dataframe tbody tr th:only-of-type {\n",
              "        vertical-align: middle;\n",
              "    }\n",
              "\n",
              "    .dataframe tbody tr th {\n",
              "        vertical-align: top;\n",
              "    }\n",
              "\n",
              "    .dataframe thead th {\n",
              "        text-align: right;\n",
              "    }\n",
              "</style>\n",
              "<table border=\"1\" class=\"dataframe\">\n",
              "  <thead>\n",
              "    <tr style=\"text-align: right;\">\n",
              "      <th></th>\n",
              "      <th>Station</th>\n",
              "      <th>direction</th>\n",
              "      <th>id</th>\n",
              "      <th>date</th>\n",
              "      <th>time</th>\n",
              "      <th>num</th>\n",
              "      <th>dest</th>\n",
              "      <th>delay</th>\n",
              "      <th>type</th>\n",
              "    </tr>\n",
              "  </thead>\n",
              "  <tbody>\n",
              "    <tr>\n",
              "      <th>318814</th>\n",
              "      <td>Kaohsiung</td>\n",
              "      <td>1</td>\n",
              "      <td>15</td>\n",
              "      <td>2021/03/15</td>\n",
              "      <td>08:09</td>\n",
              "      <td>114</td>\n",
              "      <td>Qidu</td>\n",
              "      <td>0.0</td>\n",
              "      <td>B</td>\n",
              "    </tr>\n",
              "    <tr>\n",
              "      <th>107967</th>\n",
              "      <td>Xinzuoying</td>\n",
              "      <td>1</td>\n",
              "      <td>14</td>\n",
              "      <td>2021/03/15</td>\n",
              "      <td>08:19</td>\n",
              "      <td>114</td>\n",
              "      <td>Qidu</td>\n",
              "      <td>0.0</td>\n",
              "      <td>B</td>\n",
              "    </tr>\n",
              "    <tr>\n",
              "      <th>279878</th>\n",
              "      <td>Tainan</td>\n",
              "      <td>1</td>\n",
              "      <td>16</td>\n",
              "      <td>2021/03/15</td>\n",
              "      <td>08:46</td>\n",
              "      <td>114</td>\n",
              "      <td>Qidu</td>\n",
              "      <td>22.0</td>\n",
              "      <td>B</td>\n",
              "    </tr>\n",
              "    <tr>\n",
              "      <th>40993</th>\n",
              "      <td>Chiayi</td>\n",
              "      <td>1</td>\n",
              "      <td>19</td>\n",
              "      <td>2021/03/15</td>\n",
              "      <td>09:28</td>\n",
              "      <td>114</td>\n",
              "      <td>Qidu</td>\n",
              "      <td>24.0</td>\n",
              "      <td>B</td>\n",
              "    </tr>\n",
              "    <tr>\n",
              "      <th>93759</th>\n",
              "      <td>Douliu</td>\n",
              "      <td>1</td>\n",
              "      <td>16</td>\n",
              "      <td>2021/03/15</td>\n",
              "      <td>09:49</td>\n",
              "      <td>114</td>\n",
              "      <td>Qidu</td>\n",
              "      <td>24.0</td>\n",
              "      <td>B</td>\n",
              "    </tr>\n",
              "    <tr>\n",
              "      <th>27742</th>\n",
              "      <td>Yuanlin</td>\n",
              "      <td>1</td>\n",
              "      <td>20</td>\n",
              "      <td>2021/03/15</td>\n",
              "      <td>10:16</td>\n",
              "      <td>114</td>\n",
              "      <td>Qidu</td>\n",
              "      <td>22.0</td>\n",
              "      <td>B</td>\n",
              "    </tr>\n",
              "    <tr>\n",
              "      <th>82057</th>\n",
              "      <td>Changhua</td>\n",
              "      <td>1</td>\n",
              "      <td>33</td>\n",
              "      <td>2021/03/15</td>\n",
              "      <td>10:29</td>\n",
              "      <td>114</td>\n",
              "      <td>Qidu</td>\n",
              "      <td>22.0</td>\n",
              "      <td>B</td>\n",
              "    </tr>\n",
              "    <tr>\n",
              "      <th>240045</th>\n",
              "      <td>Taichung</td>\n",
              "      <td>1</td>\n",
              "      <td>25</td>\n",
              "      <td>2021/03/15</td>\n",
              "      <td>10:45</td>\n",
              "      <td>114</td>\n",
              "      <td>Qidu</td>\n",
              "      <td>20.0</td>\n",
              "      <td>B</td>\n",
              "    </tr>\n",
              "    <tr>\n",
              "      <th>304593</th>\n",
              "      <td>Fengyuan</td>\n",
              "      <td>1</td>\n",
              "      <td>20</td>\n",
              "      <td>2021/03/15</td>\n",
              "      <td>10:56</td>\n",
              "      <td>114</td>\n",
              "      <td>Qidu</td>\n",
              "      <td>19.0</td>\n",
              "      <td>B</td>\n",
              "    </tr>\n",
              "    <tr>\n",
              "      <th>290288</th>\n",
              "      <td>Miaoli</td>\n",
              "      <td>1</td>\n",
              "      <td>20</td>\n",
              "      <td>2021/03/15</td>\n",
              "      <td>11:22</td>\n",
              "      <td>114</td>\n",
              "      <td>Qidu</td>\n",
              "      <td>18.0</td>\n",
              "      <td>B</td>\n",
              "    </tr>\n",
              "    <tr>\n",
              "      <th>223071</th>\n",
              "      <td>Zhunan</td>\n",
              "      <td>1</td>\n",
              "      <td>30</td>\n",
              "      <td>2021/03/15</td>\n",
              "      <td>11:34</td>\n",
              "      <td>114</td>\n",
              "      <td>Qidu</td>\n",
              "      <td>18.0</td>\n",
              "      <td>B</td>\n",
              "    </tr>\n",
              "    <tr>\n",
              "      <th>141101</th>\n",
              "      <td>Hsinchu</td>\n",
              "      <td>1</td>\n",
              "      <td>54</td>\n",
              "      <td>2021/03/15</td>\n",
              "      <td>11:50</td>\n",
              "      <td>114</td>\n",
              "      <td>Qidu</td>\n",
              "      <td>17.0</td>\n",
              "      <td>B</td>\n",
              "    </tr>\n",
              "    <tr>\n",
              "      <th>12440</th>\n",
              "      <td>Zhongli</td>\n",
              "      <td>1</td>\n",
              "      <td>35</td>\n",
              "      <td>2021/03/15</td>\n",
              "      <td>12:18</td>\n",
              "      <td>114</td>\n",
              "      <td>Qidu</td>\n",
              "      <td>15.0</td>\n",
              "      <td>B</td>\n",
              "    </tr>\n",
              "    <tr>\n",
              "      <th>181219</th>\n",
              "      <td>Taoyuan</td>\n",
              "      <td>1</td>\n",
              "      <td>35</td>\n",
              "      <td>2021/03/15</td>\n",
              "      <td>12:29</td>\n",
              "      <td>114</td>\n",
              "      <td>Qidu</td>\n",
              "      <td>16.0</td>\n",
              "      <td>B</td>\n",
              "    </tr>\n",
              "    <tr>\n",
              "      <th>164867</th>\n",
              "      <td>Banqiao</td>\n",
              "      <td>1</td>\n",
              "      <td>64</td>\n",
              "      <td>2021/03/15</td>\n",
              "      <td>12:51</td>\n",
              "      <td>114</td>\n",
              "      <td>Qidu</td>\n",
              "      <td>18.0</td>\n",
              "      <td>B</td>\n",
              "    </tr>\n",
              "    <tr>\n",
              "      <th>262504</th>\n",
              "      <td>Taipei</td>\n",
              "      <td>1</td>\n",
              "      <td>67</td>\n",
              "      <td>2021/03/15</td>\n",
              "      <td>13:03</td>\n",
              "      <td>114</td>\n",
              "      <td>Qidu</td>\n",
              "      <td>17.0</td>\n",
              "      <td>B</td>\n",
              "    </tr>\n",
              "    <tr>\n",
              "      <th>198261</th>\n",
              "      <td>Xizhi</td>\n",
              "      <td>1</td>\n",
              "      <td>44</td>\n",
              "      <td>2021/03/15</td>\n",
              "      <td>13:21</td>\n",
              "      <td>114</td>\n",
              "      <td>Qidu</td>\n",
              "      <td>19.0</td>\n",
              "      <td>B</td>\n",
              "    </tr>\n",
              "  </tbody>\n",
              "</table>\n",
              "</div>"
            ],
            "text/plain": [
              "           Station  direction  id        date   time  num  dest  delay type\n",
              "318814   Kaohsiung          1  15  2021/03/15  08:09  114  Qidu    0.0    B\n",
              "107967  Xinzuoying          1  14  2021/03/15  08:19  114  Qidu    0.0    B\n",
              "279878      Tainan          1  16  2021/03/15  08:46  114  Qidu   22.0    B\n",
              "40993       Chiayi          1  19  2021/03/15  09:28  114  Qidu   24.0    B\n",
              "93759       Douliu          1  16  2021/03/15  09:49  114  Qidu   24.0    B\n",
              "27742      Yuanlin          1  20  2021/03/15  10:16  114  Qidu   22.0    B\n",
              "82057     Changhua          1  33  2021/03/15  10:29  114  Qidu   22.0    B\n",
              "240045    Taichung          1  25  2021/03/15  10:45  114  Qidu   20.0    B\n",
              "304593    Fengyuan          1  20  2021/03/15  10:56  114  Qidu   19.0    B\n",
              "290288      Miaoli          1  20  2021/03/15  11:22  114  Qidu   18.0    B\n",
              "223071      Zhunan          1  30  2021/03/15  11:34  114  Qidu   18.0    B\n",
              "141101     Hsinchu          1  54  2021/03/15  11:50  114  Qidu   17.0    B\n",
              "12440      Zhongli          1  35  2021/03/15  12:18  114  Qidu   15.0    B\n",
              "181219     Taoyuan          1  35  2021/03/15  12:29  114  Qidu   16.0    B\n",
              "164867     Banqiao          1  64  2021/03/15  12:51  114  Qidu   18.0    B\n",
              "262504      Taipei          1  67  2021/03/15  13:03  114  Qidu   17.0    B\n",
              "198261       Xizhi          1  44  2021/03/15  13:21  114  Qidu   19.0    B"
            ]
          },
          "metadata": {
            "tags": []
          },
          "execution_count": 299
        }
      ]
    },
    {
      "cell_type": "code",
      "metadata": {
        "id": "QuixRaJ28cgb"
      },
      "source": [
        "list114 = [3142,3712,3148,3714]\n",
        "rail114 = dataFrame_3m15d[dataFrame_3m15d[\"num\"].isin(list114)]\n",
        "rail114tn = rail114[rail114[\"Station\"]==\"Tainan\"][\"delay\"].mean()\n",
        "rail114cy = rail114[rail114[\"Station\"]==\"Chiayi\"][\"delay\"].mean()\n",
        "rail114dl = rail114[rail114[\"Station\"]==\"Douliu\"][\"delay\"].mean()"
      ],
      "execution_count": 300,
      "outputs": []
    },
    {
      "cell_type": "markdown",
      "metadata": {
        "id": "zMhPHndFl7c_"
      },
      "source": [
        "**平日下午[情報] 521次 鶯歌桃園間 機車故障**  https://www.ptt.cc/bbs/Railway/M.1613725526.A.6CA.html**"
      ]
    },
    {
      "cell_type": "code",
      "metadata": {
        "colab": {
          "base_uri": "https://localhost:8080/",
          "height": 534
        },
        "id": "OldPflktJuuZ",
        "outputId": "40d2792a-b23f-4426-82f2-056822954a03"
      },
      "source": [
        "dataFrame_2m19d = dataFrame[dataFrame['date']=='2021/02/19']\n",
        "dataFrame_2m19d_521 = dataFrame_2m19d[dataFrame_2m19d[\"num\"]==521]\n",
        "dataFrame_2m19d_521.sort_values(by=['time'],inplace=True)\n",
        "dataFrame_2m19d_521\n"
      ],
      "execution_count": 301,
      "outputs": [
        {
          "output_type": "stream",
          "text": [
            "/usr/local/lib/python3.7/dist-packages/ipykernel_launcher.py:3: SettingWithCopyWarning: \n",
            "A value is trying to be set on a copy of a slice from a DataFrame\n",
            "\n",
            "See the caveats in the documentation: https://pandas.pydata.org/pandas-docs/stable/user_guide/indexing.html#returning-a-view-versus-a-copy\n",
            "  This is separate from the ipykernel package so we can avoid doing imports until\n"
          ],
          "name": "stderr"
        },
        {
          "output_type": "execute_result",
          "data": {
            "text/html": [
              "<div>\n",
              "<style scoped>\n",
              "    .dataframe tbody tr th:only-of-type {\n",
              "        vertical-align: middle;\n",
              "    }\n",
              "\n",
              "    .dataframe tbody tr th {\n",
              "        vertical-align: top;\n",
              "    }\n",
              "\n",
              "    .dataframe thead th {\n",
              "        text-align: right;\n",
              "    }\n",
              "</style>\n",
              "<table border=\"1\" class=\"dataframe\">\n",
              "  <thead>\n",
              "    <tr style=\"text-align: right;\">\n",
              "      <th></th>\n",
              "      <th>Station</th>\n",
              "      <th>direction</th>\n",
              "      <th>id</th>\n",
              "      <th>date</th>\n",
              "      <th>time</th>\n",
              "      <th>num</th>\n",
              "      <th>dest</th>\n",
              "      <th>delay</th>\n",
              "      <th>type</th>\n",
              "    </tr>\n",
              "  </thead>\n",
              "  <tbody>\n",
              "    <tr>\n",
              "      <th>186892</th>\n",
              "      <td>Xizhi</td>\n",
              "      <td>0</td>\n",
              "      <td>70</td>\n",
              "      <td>2021/02/19</td>\n",
              "      <td>15:48</td>\n",
              "      <td>521</td>\n",
              "      <td>Xinzuoying</td>\n",
              "      <td>2.0</td>\n",
              "      <td>C</td>\n",
              "    </tr>\n",
              "    <tr>\n",
              "      <th>246744</th>\n",
              "      <td>Taipei</td>\n",
              "      <td>0</td>\n",
              "      <td>90</td>\n",
              "      <td>2021/02/19</td>\n",
              "      <td>16:10</td>\n",
              "      <td>521</td>\n",
              "      <td>Xinzuoying</td>\n",
              "      <td>2.0</td>\n",
              "      <td>C</td>\n",
              "    </tr>\n",
              "    <tr>\n",
              "      <th>149172</th>\n",
              "      <td>Banqiao</td>\n",
              "      <td>0</td>\n",
              "      <td>91</td>\n",
              "      <td>2021/02/19</td>\n",
              "      <td>16:20</td>\n",
              "      <td>521</td>\n",
              "      <td>Xinzuoying</td>\n",
              "      <td>2.0</td>\n",
              "      <td>C</td>\n",
              "    </tr>\n",
              "    <tr>\n",
              "      <th>171374</th>\n",
              "      <td>Taoyuan</td>\n",
              "      <td>0</td>\n",
              "      <td>59</td>\n",
              "      <td>2021/02/19</td>\n",
              "      <td>16:48</td>\n",
              "      <td>521</td>\n",
              "      <td>Xinzuoying</td>\n",
              "      <td>47.0</td>\n",
              "      <td>C</td>\n",
              "    </tr>\n",
              "    <tr>\n",
              "      <th>2896</th>\n",
              "      <td>Zhongli</td>\n",
              "      <td>0</td>\n",
              "      <td>57</td>\n",
              "      <td>2021/02/19</td>\n",
              "      <td>17:00</td>\n",
              "      <td>521</td>\n",
              "      <td>Xinzuoying</td>\n",
              "      <td>47.0</td>\n",
              "      <td>C</td>\n",
              "    </tr>\n",
              "    <tr>\n",
              "      <th>126619</th>\n",
              "      <td>Hsinchu</td>\n",
              "      <td>0</td>\n",
              "      <td>95</td>\n",
              "      <td>2021/02/19</td>\n",
              "      <td>17:41</td>\n",
              "      <td>521</td>\n",
              "      <td>Xinzuoying</td>\n",
              "      <td>63.0</td>\n",
              "      <td>C</td>\n",
              "    </tr>\n",
              "    <tr>\n",
              "      <th>214507</th>\n",
              "      <td>Zhunan</td>\n",
              "      <td>0</td>\n",
              "      <td>57</td>\n",
              "      <td>2021/02/19</td>\n",
              "      <td>17:59</td>\n",
              "      <td>521</td>\n",
              "      <td>Xinzuoying</td>\n",
              "      <td>65.0</td>\n",
              "      <td>C</td>\n",
              "    </tr>\n",
              "    <tr>\n",
              "      <th>68696</th>\n",
              "      <td>Changhua</td>\n",
              "      <td>0</td>\n",
              "      <td>85</td>\n",
              "      <td>2021/02/19</td>\n",
              "      <td>19:39</td>\n",
              "      <td>521</td>\n",
              "      <td>Xinzuoying</td>\n",
              "      <td>61.0</td>\n",
              "      <td>C</td>\n",
              "    </tr>\n",
              "    <tr>\n",
              "      <th>18560</th>\n",
              "      <td>Yuanlin</td>\n",
              "      <td>0</td>\n",
              "      <td>59</td>\n",
              "      <td>2021/02/19</td>\n",
              "      <td>19:53</td>\n",
              "      <td>521</td>\n",
              "      <td>Xinzuoying</td>\n",
              "      <td>62.0</td>\n",
              "      <td>C</td>\n",
              "    </tr>\n",
              "    <tr>\n",
              "      <th>86683</th>\n",
              "      <td>Douliu</td>\n",
              "      <td>0</td>\n",
              "      <td>57</td>\n",
              "      <td>2021/02/19</td>\n",
              "      <td>20:28</td>\n",
              "      <td>521</td>\n",
              "      <td>Xinzuoying</td>\n",
              "      <td>62.0</td>\n",
              "      <td>C</td>\n",
              "    </tr>\n",
              "    <tr>\n",
              "      <th>32173</th>\n",
              "      <td>Chiayi</td>\n",
              "      <td>0</td>\n",
              "      <td>79</td>\n",
              "      <td>2021/02/19</td>\n",
              "      <td>21:13</td>\n",
              "      <td>521</td>\n",
              "      <td>Xinzuoying</td>\n",
              "      <td>50.0</td>\n",
              "      <td>C</td>\n",
              "    </tr>\n",
              "    <tr>\n",
              "      <th>269304</th>\n",
              "      <td>Tainan</td>\n",
              "      <td>0</td>\n",
              "      <td>98</td>\n",
              "      <td>2021/02/19</td>\n",
              "      <td>22:11</td>\n",
              "      <td>521</td>\n",
              "      <td>Xinzuoying</td>\n",
              "      <td>58.0</td>\n",
              "      <td>C</td>\n",
              "    </tr>\n",
              "    <tr>\n",
              "      <th>98323</th>\n",
              "      <td>Xinzuoying</td>\n",
              "      <td>0</td>\n",
              "      <td>90</td>\n",
              "      <td>2021/02/19</td>\n",
              "      <td>22:45</td>\n",
              "      <td>521</td>\n",
              "      <td>Xinzuoying</td>\n",
              "      <td>59.0</td>\n",
              "      <td>C</td>\n",
              "    </tr>\n",
              "  </tbody>\n",
              "</table>\n",
              "</div>"
            ],
            "text/plain": [
              "           Station  direction  id        date  ...  num        dest delay  type\n",
              "186892       Xizhi          0  70  2021/02/19  ...  521  Xinzuoying   2.0     C\n",
              "246744      Taipei          0  90  2021/02/19  ...  521  Xinzuoying   2.0     C\n",
              "149172     Banqiao          0  91  2021/02/19  ...  521  Xinzuoying   2.0     C\n",
              "171374     Taoyuan          0  59  2021/02/19  ...  521  Xinzuoying  47.0     C\n",
              "2896       Zhongli          0  57  2021/02/19  ...  521  Xinzuoying  47.0     C\n",
              "126619     Hsinchu          0  95  2021/02/19  ...  521  Xinzuoying  63.0     C\n",
              "214507      Zhunan          0  57  2021/02/19  ...  521  Xinzuoying  65.0     C\n",
              "68696     Changhua          0  85  2021/02/19  ...  521  Xinzuoying  61.0     C\n",
              "18560      Yuanlin          0  59  2021/02/19  ...  521  Xinzuoying  62.0     C\n",
              "86683       Douliu          0  57  2021/02/19  ...  521  Xinzuoying  62.0     C\n",
              "32173       Chiayi          0  79  2021/02/19  ...  521  Xinzuoying  50.0     C\n",
              "269304      Tainan          0  98  2021/02/19  ...  521  Xinzuoying  58.0     C\n",
              "98323   Xinzuoying          0  90  2021/02/19  ...  521  Xinzuoying  59.0     C\n",
              "\n",
              "[13 rows x 9 columns]"
            ]
          },
          "metadata": {
            "tags": []
          },
          "execution_count": 301
        }
      ]
    },
    {
      "cell_type": "code",
      "metadata": {
        "id": "bI61OfeRAn66"
      },
      "source": [
        "list521 = [4183,1221,139,2243,1227,2033,141,1231]\n",
        "rail521 = dataFrame_2m19d[dataFrame_2m19d[\"num\"].isin(list521)]\n",
        "rail521ty = rail521[rail521[\"Station\"]==\"Taoyuan\"][\"delay\"].mean()\n",
        "rail521zl = rail521[rail521[\"Station\"]==\"Zhongli\"][\"delay\"].mean()\n",
        "rail521hs = rail521[rail521[\"Station\"]==\"Hsinchu\"][\"delay\"].mean()"
      ],
      "execution_count": 302,
      "outputs": []
    },
    {
      "cell_type": "markdown",
      "metadata": {
        "id": "Nw1xgaFUo8z-"
      },
      "source": [
        "用不到[情報] 加祿-枋野 電力故障 https://www.ptt.cc/bbs/Railway/M.1616831786.A.952.html"
      ]
    },
    {
      "cell_type": "code",
      "metadata": {
        "id": "546p_YfnQByo",
        "colab": {
          "base_uri": "https://localhost:8080/",
          "height": 52
        },
        "outputId": "e9f9d69c-0239-457e-dcdf-e2d11fe8ddb1"
      },
      "source": [
        "\"\"\"\n",
        "dataFrame_3m27d = dataFrame.drop(index=dataFrame[dataFrame['date']!='2021/03/27'].index)\n",
        "dataFrame_3m27d_374 = dataFrame_3m27d.drop(index=dataFrame_3m27d[dataFrame_3m27d['num']!=374].index)\n",
        "dataFrame_3m27d_374.sort_values(by=['time'], inplace=True)\n",
        "dataFrame_3m27d_374\n",
        "\"\"\""
      ],
      "execution_count": 303,
      "outputs": [
        {
          "output_type": "execute_result",
          "data": {
            "application/vnd.google.colaboratory.intrinsic+json": {
              "type": "string"
            },
            "text/plain": [
              "\"\\ndataFrame_3m27d = dataFrame.drop(index=dataFrame[dataFrame['date']!='2021/03/27'].index)\\ndataFrame_3m27d_374 = dataFrame_3m27d.drop(index=dataFrame_3m27d[dataFrame_3m27d['num']!=374].index)\\ndataFrame_3m27d_374.sort_values(by=['time'], inplace=True)\\ndataFrame_3m27d_374\\n\""
            ]
          },
          "metadata": {
            "tags": []
          },
          "execution_count": 303
        }
      ]
    },
    {
      "cell_type": "markdown",
      "metadata": {
        "id": "hh9jabBnnxrS"
      },
      "source": [
        "**平日早上 **[情報] 富岡號誌故障 2/10 115車次\n",
        "https://www.ptt.cc/bbs/Railway/M.1612924168.A.105.html**"
      ]
    },
    {
      "cell_type": "code",
      "metadata": {
        "id": "sJnl9WpbQG8q",
        "colab": {
          "base_uri": "https://localhost:8080/",
          "height": 603
        },
        "outputId": "7bae4784-056d-4f8f-a13a-5c12b2ec1ebb"
      },
      "source": [
        "dataFrame_2m10d = dataFrame.drop(index=dataFrame[dataFrame['date']!='2021/02/10'].index)\n",
        "dataFrame_2m10d_115 = dataFrame_2m10d.drop(index=dataFrame_2m10d[dataFrame_2m10d['num']!=115].index)\n",
        "dataFrame_2m10d_115.sort_values(by=['time'], inplace=True)\n",
        "dataFrame_2m10d_115"
      ],
      "execution_count": 304,
      "outputs": [
        {
          "output_type": "execute_result",
          "data": {
            "text/html": [
              "<div>\n",
              "<style scoped>\n",
              "    .dataframe tbody tr th:only-of-type {\n",
              "        vertical-align: middle;\n",
              "    }\n",
              "\n",
              "    .dataframe tbody tr th {\n",
              "        vertical-align: top;\n",
              "    }\n",
              "\n",
              "    .dataframe thead th {\n",
              "        text-align: right;\n",
              "    }\n",
              "</style>\n",
              "<table border=\"1\" class=\"dataframe\">\n",
              "  <thead>\n",
              "    <tr style=\"text-align: right;\">\n",
              "      <th></th>\n",
              "      <th>Station</th>\n",
              "      <th>direction</th>\n",
              "      <th>id</th>\n",
              "      <th>date</th>\n",
              "      <th>time</th>\n",
              "      <th>num</th>\n",
              "      <th>dest</th>\n",
              "      <th>delay</th>\n",
              "      <th>type</th>\n",
              "    </tr>\n",
              "  </thead>\n",
              "  <tbody>\n",
              "    <tr>\n",
              "      <th>44344</th>\n",
              "      <td>Keelung</td>\n",
              "      <td>0</td>\n",
              "      <td>14</td>\n",
              "      <td>2021/02/10</td>\n",
              "      <td>08:14</td>\n",
              "      <td>115</td>\n",
              "      <td>Pingtung</td>\n",
              "      <td>1.0</td>\n",
              "      <td>B</td>\n",
              "    </tr>\n",
              "    <tr>\n",
              "      <th>185830</th>\n",
              "      <td>Xizhi</td>\n",
              "      <td>0</td>\n",
              "      <td>25</td>\n",
              "      <td>2021/02/10</td>\n",
              "      <td>08:38</td>\n",
              "      <td>115</td>\n",
              "      <td>Pingtung</td>\n",
              "      <td>4.0</td>\n",
              "      <td>B</td>\n",
              "    </tr>\n",
              "    <tr>\n",
              "      <th>245245</th>\n",
              "      <td>Taipei</td>\n",
              "      <td>0</td>\n",
              "      <td>35</td>\n",
              "      <td>2021/02/10</td>\n",
              "      <td>08:59</td>\n",
              "      <td>115</td>\n",
              "      <td>Pingtung</td>\n",
              "      <td>3.0</td>\n",
              "      <td>B</td>\n",
              "    </tr>\n",
              "    <tr>\n",
              "      <th>147674</th>\n",
              "      <td>Banqiao</td>\n",
              "      <td>0</td>\n",
              "      <td>36</td>\n",
              "      <td>2021/02/10</td>\n",
              "      <td>09:09</td>\n",
              "      <td>115</td>\n",
              "      <td>Pingtung</td>\n",
              "      <td>3.0</td>\n",
              "      <td>B</td>\n",
              "    </tr>\n",
              "    <tr>\n",
              "      <th>170453</th>\n",
              "      <td>Taoyuan</td>\n",
              "      <td>0</td>\n",
              "      <td>25</td>\n",
              "      <td>2021/02/10</td>\n",
              "      <td>09:33</td>\n",
              "      <td>115</td>\n",
              "      <td>Pingtung</td>\n",
              "      <td>1.0</td>\n",
              "      <td>B</td>\n",
              "    </tr>\n",
              "    <tr>\n",
              "      <th>2002</th>\n",
              "      <td>Zhongli</td>\n",
              "      <td>0</td>\n",
              "      <td>23</td>\n",
              "      <td>2021/02/10</td>\n",
              "      <td>09:44</td>\n",
              "      <td>115</td>\n",
              "      <td>Pingtung</td>\n",
              "      <td>3.0</td>\n",
              "      <td>B</td>\n",
              "    </tr>\n",
              "    <tr>\n",
              "      <th>125238</th>\n",
              "      <td>Hsinchu</td>\n",
              "      <td>0</td>\n",
              "      <td>39</td>\n",
              "      <td>2021/02/10</td>\n",
              "      <td>10:13</td>\n",
              "      <td>115</td>\n",
              "      <td>Pingtung</td>\n",
              "      <td>26.0</td>\n",
              "      <td>B</td>\n",
              "    </tr>\n",
              "    <tr>\n",
              "      <th>213698</th>\n",
              "      <td>Zhunan</td>\n",
              "      <td>0</td>\n",
              "      <td>25</td>\n",
              "      <td>2021/02/10</td>\n",
              "      <td>10:29</td>\n",
              "      <td>115</td>\n",
              "      <td>Pingtung</td>\n",
              "      <td>26.0</td>\n",
              "      <td>B</td>\n",
              "    </tr>\n",
              "    <tr>\n",
              "      <th>283598</th>\n",
              "      <td>Miaoli</td>\n",
              "      <td>0</td>\n",
              "      <td>16</td>\n",
              "      <td>2021/02/10</td>\n",
              "      <td>10:41</td>\n",
              "      <td>115</td>\n",
              "      <td>Pingtung</td>\n",
              "      <td>25.0</td>\n",
              "      <td>B</td>\n",
              "    </tr>\n",
              "    <tr>\n",
              "      <th>294956</th>\n",
              "      <td>Fengyuan</td>\n",
              "      <td>0</td>\n",
              "      <td>23</td>\n",
              "      <td>2021/02/10</td>\n",
              "      <td>11:08</td>\n",
              "      <td>115</td>\n",
              "      <td>Pingtung</td>\n",
              "      <td>25.0</td>\n",
              "      <td>B</td>\n",
              "    </tr>\n",
              "    <tr>\n",
              "      <th>228742</th>\n",
              "      <td>Taichung</td>\n",
              "      <td>0</td>\n",
              "      <td>28</td>\n",
              "      <td>2021/02/10</td>\n",
              "      <td>11:20</td>\n",
              "      <td>115</td>\n",
              "      <td>Pingtung</td>\n",
              "      <td>26.0</td>\n",
              "      <td>B</td>\n",
              "    </tr>\n",
              "    <tr>\n",
              "      <th>67649</th>\n",
              "      <td>Changhua</td>\n",
              "      <td>0</td>\n",
              "      <td>41</td>\n",
              "      <td>2021/02/10</td>\n",
              "      <td>11:36</td>\n",
              "      <td>115</td>\n",
              "      <td>Pingtung</td>\n",
              "      <td>25.0</td>\n",
              "      <td>B</td>\n",
              "    </tr>\n",
              "    <tr>\n",
              "      <th>17843</th>\n",
              "      <td>Yuanlin</td>\n",
              "      <td>0</td>\n",
              "      <td>28</td>\n",
              "      <td>2021/02/10</td>\n",
              "      <td>11:48</td>\n",
              "      <td>115</td>\n",
              "      <td>Pingtung</td>\n",
              "      <td>28.0</td>\n",
              "      <td>B</td>\n",
              "    </tr>\n",
              "    <tr>\n",
              "      <th>86012</th>\n",
              "      <td>Douliu</td>\n",
              "      <td>0</td>\n",
              "      <td>26</td>\n",
              "      <td>2021/02/10</td>\n",
              "      <td>12:11</td>\n",
              "      <td>115</td>\n",
              "      <td>Pingtung</td>\n",
              "      <td>28.0</td>\n",
              "      <td>B</td>\n",
              "    </tr>\n",
              "    <tr>\n",
              "      <th>31329</th>\n",
              "      <td>Chiayi</td>\n",
              "      <td>0</td>\n",
              "      <td>38</td>\n",
              "      <td>2021/02/10</td>\n",
              "      <td>12:35</td>\n",
              "      <td>115</td>\n",
              "      <td>Pingtung</td>\n",
              "      <td>32.0</td>\n",
              "      <td>B</td>\n",
              "    </tr>\n",
              "    <tr>\n",
              "      <th>268295</th>\n",
              "      <td>Tainan</td>\n",
              "      <td>0</td>\n",
              "      <td>45</td>\n",
              "      <td>2021/02/10</td>\n",
              "      <td>13:20</td>\n",
              "      <td>115</td>\n",
              "      <td>Pingtung</td>\n",
              "      <td>34.0</td>\n",
              "      <td>B</td>\n",
              "    </tr>\n",
              "    <tr>\n",
              "      <th>97407</th>\n",
              "      <td>Xinzuoying</td>\n",
              "      <td>0</td>\n",
              "      <td>42</td>\n",
              "      <td>2021/02/10</td>\n",
              "      <td>13:48</td>\n",
              "      <td>115</td>\n",
              "      <td>Pingtung</td>\n",
              "      <td>33.0</td>\n",
              "      <td>B</td>\n",
              "    </tr>\n",
              "    <tr>\n",
              "      <th>308274</th>\n",
              "      <td>Kaohsiung</td>\n",
              "      <td>0</td>\n",
              "      <td>43</td>\n",
              "      <td>2021/02/10</td>\n",
              "      <td>13:59</td>\n",
              "      <td>115</td>\n",
              "      <td>Pingtung</td>\n",
              "      <td>32.0</td>\n",
              "      <td>B</td>\n",
              "    </tr>\n",
              "  </tbody>\n",
              "</table>\n",
              "</div>"
            ],
            "text/plain": [
              "           Station  direction  id        date   time  num      dest  delay type\n",
              "44344      Keelung          0  14  2021/02/10  08:14  115  Pingtung    1.0    B\n",
              "185830       Xizhi          0  25  2021/02/10  08:38  115  Pingtung    4.0    B\n",
              "245245      Taipei          0  35  2021/02/10  08:59  115  Pingtung    3.0    B\n",
              "147674     Banqiao          0  36  2021/02/10  09:09  115  Pingtung    3.0    B\n",
              "170453     Taoyuan          0  25  2021/02/10  09:33  115  Pingtung    1.0    B\n",
              "2002       Zhongli          0  23  2021/02/10  09:44  115  Pingtung    3.0    B\n",
              "125238     Hsinchu          0  39  2021/02/10  10:13  115  Pingtung   26.0    B\n",
              "213698      Zhunan          0  25  2021/02/10  10:29  115  Pingtung   26.0    B\n",
              "283598      Miaoli          0  16  2021/02/10  10:41  115  Pingtung   25.0    B\n",
              "294956    Fengyuan          0  23  2021/02/10  11:08  115  Pingtung   25.0    B\n",
              "228742    Taichung          0  28  2021/02/10  11:20  115  Pingtung   26.0    B\n",
              "67649     Changhua          0  41  2021/02/10  11:36  115  Pingtung   25.0    B\n",
              "17843      Yuanlin          0  28  2021/02/10  11:48  115  Pingtung   28.0    B\n",
              "86012       Douliu          0  26  2021/02/10  12:11  115  Pingtung   28.0    B\n",
              "31329       Chiayi          0  38  2021/02/10  12:35  115  Pingtung   32.0    B\n",
              "268295      Tainan          0  45  2021/02/10  13:20  115  Pingtung   34.0    B\n",
              "97407   Xinzuoying          0  42  2021/02/10  13:48  115  Pingtung   33.0    B\n",
              "308274   Kaohsiung          0  43  2021/02/10  13:59  115  Pingtung   32.0    B"
            ]
          },
          "metadata": {
            "tags": []
          },
          "execution_count": 304
        }
      ]
    },
    {
      "cell_type": "code",
      "metadata": {
        "id": "Ich09voABMY6"
      },
      "source": [
        "list115 = [1137,1141,2163,511,1147]\n",
        "rail115 = dataFrame_2m10d[dataFrame_2m10d[\"num\"].isin(list115)]\n",
        "rail115hs = rail115[rail115[\"Station\"]==\"Hsinchu\"][\"delay\"].mean()\n",
        "rail115zl = rail115[rail115[\"Station\"]==\"Zhunan\"][\"delay\"].mean()\n",
        "rail115ml = rail115[rail115[\"Station\"]==\"Miaoli\"][\"delay\"].mean()"
      ],
      "execution_count": 305,
      "outputs": []
    },
    {
      "cell_type": "markdown",
      "metadata": {
        "id": "v7qUKMmsA3cv"
      },
      "source": [
        "放掉"
      ]
    },
    {
      "cell_type": "code",
      "metadata": {
        "colab": {
          "base_uri": "https://localhost:8080/",
          "height": 52
        },
        "id": "O5rCt5llz6nN",
        "outputId": "58d529ce-4119-4856-8ee6-7358aae5369a"
      },
      "source": [
        "\"\"\"\n",
        "dataFrame_2m26d = dataFrame.drop(index=dataFrame[dataFrame['date']!='2021/02/26'].index)\n",
        "dataFrame_2m26d_121 = dataFrame_2m26d.drop(index=dataFrame_2m26d[dataFrame_2m26d['num']!=121].index)\n",
        "dataFrame_2m26d_121.sort_values(by=['time'], inplace=True)\n",
        "dataFrame_2m26d_121\n",
        "\"\"\""
      ],
      "execution_count": 306,
      "outputs": [
        {
          "output_type": "execute_result",
          "data": {
            "application/vnd.google.colaboratory.intrinsic+json": {
              "type": "string"
            },
            "text/plain": [
              "\"\\ndataFrame_2m26d = dataFrame.drop(index=dataFrame[dataFrame['date']!='2021/02/26'].index)\\ndataFrame_2m26d_121 = dataFrame_2m26d.drop(index=dataFrame_2m26d[dataFrame_2m26d['num']!=121].index)\\ndataFrame_2m26d_121.sort_values(by=['time'], inplace=True)\\ndataFrame_2m26d_121\\n\""
            ]
          },
          "metadata": {
            "tags": []
          },
          "execution_count": 306
        }
      ]
    },
    {
      "cell_type": "markdown",
      "metadata": {
        "id": "YnoU0pw8opiJ"
      },
      "source": [
        "**平日早上撞到中壢站公告人身事故** https://www.ptt.cc/bbs/Railway/M.1614910195.A.09E.html**"
      ]
    },
    {
      "cell_type": "code",
      "metadata": {
        "colab": {
          "base_uri": "https://localhost:8080/",
          "height": 357
        },
        "id": "njz_7lEhP5wt",
        "outputId": "7a5b0538-cc21-44f2-812e-a3bee443b5fa"
      },
      "source": [
        "dataFrame_3m5d = dataFrame.drop(index=dataFrame[dataFrame['date']!='2021/03/05'].index)\n",
        "dataFrame_3m5d_106 = dataFrame_3m5d.drop(index=dataFrame_3m5d[dataFrame_3m5d['num']!=106].index)\n",
        "dataFrame_3m5d_106.sort_values(by=['time'], inplace=True)\n",
        "dataFrame_3m5d_106"
      ],
      "execution_count": 307,
      "outputs": [
        {
          "output_type": "execute_result",
          "data": {
            "text/html": [
              "<div>\n",
              "<style scoped>\n",
              "    .dataframe tbody tr th:only-of-type {\n",
              "        vertical-align: middle;\n",
              "    }\n",
              "\n",
              "    .dataframe tbody tr th {\n",
              "        vertical-align: top;\n",
              "    }\n",
              "\n",
              "    .dataframe thead th {\n",
              "        text-align: right;\n",
              "    }\n",
              "</style>\n",
              "<table border=\"1\" class=\"dataframe\">\n",
              "  <thead>\n",
              "    <tr style=\"text-align: right;\">\n",
              "      <th></th>\n",
              "      <th>Station</th>\n",
              "      <th>direction</th>\n",
              "      <th>id</th>\n",
              "      <th>date</th>\n",
              "      <th>time</th>\n",
              "      <th>num</th>\n",
              "      <th>dest</th>\n",
              "      <th>delay</th>\n",
              "      <th>type</th>\n",
              "    </tr>\n",
              "  </thead>\n",
              "  <tbody>\n",
              "    <tr>\n",
              "      <th>80960</th>\n",
              "      <td>Changhua</td>\n",
              "      <td>1</td>\n",
              "      <td>21</td>\n",
              "      <td>2021/03/05</td>\n",
              "      <td>08:08</td>\n",
              "      <td>106</td>\n",
              "      <td>Qidu</td>\n",
              "      <td>1.0</td>\n",
              "      <td>B</td>\n",
              "    </tr>\n",
              "    <tr>\n",
              "      <th>239185</th>\n",
              "      <td>Taichung</td>\n",
              "      <td>1</td>\n",
              "      <td>14</td>\n",
              "      <td>2021/03/05</td>\n",
              "      <td>08:24</td>\n",
              "      <td>106</td>\n",
              "      <td>Qidu</td>\n",
              "      <td>0.0</td>\n",
              "      <td>B</td>\n",
              "    </tr>\n",
              "    <tr>\n",
              "      <th>303877</th>\n",
              "      <td>Fengyuan</td>\n",
              "      <td>1</td>\n",
              "      <td>13</td>\n",
              "      <td>2021/03/05</td>\n",
              "      <td>08:35</td>\n",
              "      <td>106</td>\n",
              "      <td>Qidu</td>\n",
              "      <td>1.0</td>\n",
              "      <td>B</td>\n",
              "    </tr>\n",
              "    <tr>\n",
              "      <th>289682</th>\n",
              "      <td>Miaoli</td>\n",
              "      <td>1</td>\n",
              "      <td>13</td>\n",
              "      <td>2021/03/05</td>\n",
              "      <td>09:01</td>\n",
              "      <td>106</td>\n",
              "      <td>Qidu</td>\n",
              "      <td>0.0</td>\n",
              "      <td>B</td>\n",
              "    </tr>\n",
              "    <tr>\n",
              "      <th>139626</th>\n",
              "      <td>Hsinchu</td>\n",
              "      <td>1</td>\n",
              "      <td>36</td>\n",
              "      <td>2021/03/05</td>\n",
              "      <td>09:27</td>\n",
              "      <td>106</td>\n",
              "      <td>Qidu</td>\n",
              "      <td>0.0</td>\n",
              "      <td>B</td>\n",
              "    </tr>\n",
              "    <tr>\n",
              "      <th>11483</th>\n",
              "      <td>Zhongli</td>\n",
              "      <td>1</td>\n",
              "      <td>25</td>\n",
              "      <td>2021/03/05</td>\n",
              "      <td>09:55</td>\n",
              "      <td>106</td>\n",
              "      <td>Qidu</td>\n",
              "      <td>95.0</td>\n",
              "      <td>B</td>\n",
              "    </tr>\n",
              "    <tr>\n",
              "      <th>180232</th>\n",
              "      <td>Taoyuan</td>\n",
              "      <td>1</td>\n",
              "      <td>25</td>\n",
              "      <td>2021/03/05</td>\n",
              "      <td>10:06</td>\n",
              "      <td>106</td>\n",
              "      <td>Qidu</td>\n",
              "      <td>96.0</td>\n",
              "      <td>B</td>\n",
              "    </tr>\n",
              "    <tr>\n",
              "      <th>163298</th>\n",
              "      <td>Banqiao</td>\n",
              "      <td>1</td>\n",
              "      <td>46</td>\n",
              "      <td>2021/03/05</td>\n",
              "      <td>10:28</td>\n",
              "      <td>106</td>\n",
              "      <td>Qidu</td>\n",
              "      <td>96.0</td>\n",
              "      <td>B</td>\n",
              "    </tr>\n",
              "    <tr>\n",
              "      <th>260925</th>\n",
              "      <td>Taipei</td>\n",
              "      <td>1</td>\n",
              "      <td>49</td>\n",
              "      <td>2021/03/05</td>\n",
              "      <td>10:40</td>\n",
              "      <td>106</td>\n",
              "      <td>Qidu</td>\n",
              "      <td>95.0</td>\n",
              "      <td>B</td>\n",
              "    </tr>\n",
              "    <tr>\n",
              "      <th>197127</th>\n",
              "      <td>Xizhi</td>\n",
              "      <td>1</td>\n",
              "      <td>32</td>\n",
              "      <td>2021/03/05</td>\n",
              "      <td>10:59</td>\n",
              "      <td>106</td>\n",
              "      <td>Qidu</td>\n",
              "      <td>96.0</td>\n",
              "      <td>B</td>\n",
              "    </tr>\n",
              "  </tbody>\n",
              "</table>\n",
              "</div>"
            ],
            "text/plain": [
              "         Station  direction  id        date   time  num  dest  delay type\n",
              "80960   Changhua          1  21  2021/03/05  08:08  106  Qidu    1.0    B\n",
              "239185  Taichung          1  14  2021/03/05  08:24  106  Qidu    0.0    B\n",
              "303877  Fengyuan          1  13  2021/03/05  08:35  106  Qidu    1.0    B\n",
              "289682    Miaoli          1  13  2021/03/05  09:01  106  Qidu    0.0    B\n",
              "139626   Hsinchu          1  36  2021/03/05  09:27  106  Qidu    0.0    B\n",
              "11483    Zhongli          1  25  2021/03/05  09:55  106  Qidu   95.0    B\n",
              "180232   Taoyuan          1  25  2021/03/05  10:06  106  Qidu   96.0    B\n",
              "163298   Banqiao          1  46  2021/03/05  10:28  106  Qidu   96.0    B\n",
              "260925    Taipei          1  49  2021/03/05  10:40  106  Qidu   95.0    B\n",
              "197127     Xizhi          1  32  2021/03/05  10:59  106  Qidu   96.0    B"
            ]
          },
          "metadata": {
            "tags": []
          },
          "execution_count": 307
        }
      ]
    },
    {
      "cell_type": "code",
      "metadata": {
        "id": "rai8wNJbhOkV"
      },
      "source": [
        "list106 = [2134,108,1162,1168,2144,112,1172]\n",
        "rail106 = dataFrame_3m5d[dataFrame_3m5d[\"num\"].isin(list106)]\n",
        "rail106zl = rail106[rail106[\"Station\"]==\"Zhongli\"][\"delay\"].mean()\n",
        "rail106ty = rail106[rail106[\"Station\"]==\"Taoyuan\"][\"delay\"].mean()\n",
        "rail106bq = rail106[rail106[\"Station\"]==\"Banqiao\"][\"delay\"].mean()"
      ],
      "execution_count": 308,
      "outputs": []
    },
    {
      "cell_type": "markdown",
      "metadata": {
        "id": "Tw0YEZjqn7WJ"
      },
      "source": [
        "**假日下午[情報] 554動力異常 https://www.ptt.cc/bbs/Railway/M.1615726744.A.7E9.html**"
      ]
    },
    {
      "cell_type": "code",
      "metadata": {
        "colab": {
          "base_uri": "https://localhost:8080/",
          "height": 480
        },
        "id": "MQTVOehRKqpE",
        "outputId": "b5019e36-6e96-4ec3-decf-fcaa130f8a97"
      },
      "source": [
        "\n",
        "dataFrame_3m14d = dataFrame.drop(index=dataFrame[dataFrame['date']!='2021/03/14'].index)\n",
        "dataFrame_3m14d_554 = dataFrame_3m14d.drop(index=dataFrame_3m14d[dataFrame_3m14d['num']!=554].index)\n",
        "dataFrame_3m14d_554.reset_index(inplace=True)\n",
        "#dataFrame_3m14d_554_accident = dataFrame_3m14d_554.iloc[[7,9,11]]\n",
        "dataFrame_3m14d_554.sort_values(by=['time'],inplace=True)\n",
        "dataFrame_3m14d_554"
      ],
      "execution_count": 309,
      "outputs": [
        {
          "output_type": "execute_result",
          "data": {
            "text/html": [
              "<div>\n",
              "<style scoped>\n",
              "    .dataframe tbody tr th:only-of-type {\n",
              "        vertical-align: middle;\n",
              "    }\n",
              "\n",
              "    .dataframe tbody tr th {\n",
              "        vertical-align: top;\n",
              "    }\n",
              "\n",
              "    .dataframe thead th {\n",
              "        text-align: right;\n",
              "    }\n",
              "</style>\n",
              "<table border=\"1\" class=\"dataframe\">\n",
              "  <thead>\n",
              "    <tr style=\"text-align: right;\">\n",
              "      <th></th>\n",
              "      <th>index</th>\n",
              "      <th>Station</th>\n",
              "      <th>direction</th>\n",
              "      <th>id</th>\n",
              "      <th>date</th>\n",
              "      <th>time</th>\n",
              "      <th>num</th>\n",
              "      <th>dest</th>\n",
              "      <th>delay</th>\n",
              "      <th>type</th>\n",
              "    </tr>\n",
              "  </thead>\n",
              "  <tbody>\n",
              "    <tr>\n",
              "      <th>13</th>\n",
              "      <td>318746</td>\n",
              "      <td>Kaohsiung</td>\n",
              "      <td>1</td>\n",
              "      <td>44</td>\n",
              "      <td>2021/03/14</td>\n",
              "      <td>13:45</td>\n",
              "      <td>554</td>\n",
              "      <td>Hualien</td>\n",
              "      <td>0.0</td>\n",
              "      <td>C</td>\n",
              "    </tr>\n",
              "    <tr>\n",
              "      <th>5</th>\n",
              "      <td>107900</td>\n",
              "      <td>Xinzuoying</td>\n",
              "      <td>1</td>\n",
              "      <td>44</td>\n",
              "      <td>2021/03/14</td>\n",
              "      <td>13:56</td>\n",
              "      <td>554</td>\n",
              "      <td>Hualien</td>\n",
              "      <td>0.0</td>\n",
              "      <td>C</td>\n",
              "    </tr>\n",
              "    <tr>\n",
              "      <th>12</th>\n",
              "      <td>279808</td>\n",
              "      <td>Tainan</td>\n",
              "      <td>1</td>\n",
              "      <td>51</td>\n",
              "      <td>2021/03/14</td>\n",
              "      <td>14:38</td>\n",
              "      <td>554</td>\n",
              "      <td>Hualien</td>\n",
              "      <td>1.0</td>\n",
              "      <td>C</td>\n",
              "    </tr>\n",
              "    <tr>\n",
              "      <th>2</th>\n",
              "      <td>40936</td>\n",
              "      <td>Chiayi</td>\n",
              "      <td>1</td>\n",
              "      <td>49</td>\n",
              "      <td>2021/03/14</td>\n",
              "      <td>15:37</td>\n",
              "      <td>554</td>\n",
              "      <td>Hualien</td>\n",
              "      <td>0.0</td>\n",
              "      <td>C</td>\n",
              "    </tr>\n",
              "    <tr>\n",
              "      <th>4</th>\n",
              "      <td>93717</td>\n",
              "      <td>Douliu</td>\n",
              "      <td>1</td>\n",
              "      <td>45</td>\n",
              "      <td>2021/03/14</td>\n",
              "      <td>16:23</td>\n",
              "      <td>554</td>\n",
              "      <td>Hualien</td>\n",
              "      <td>1.0</td>\n",
              "      <td>C</td>\n",
              "    </tr>\n",
              "    <tr>\n",
              "      <th>1</th>\n",
              "      <td>27694</td>\n",
              "      <td>Yuanlin</td>\n",
              "      <td>1</td>\n",
              "      <td>48</td>\n",
              "      <td>2021/03/14</td>\n",
              "      <td>17:07</td>\n",
              "      <td>554</td>\n",
              "      <td>Hualien</td>\n",
              "      <td>2.0</td>\n",
              "      <td>C</td>\n",
              "    </tr>\n",
              "    <tr>\n",
              "      <th>3</th>\n",
              "      <td>81988</td>\n",
              "      <td>Changhua</td>\n",
              "      <td>1</td>\n",
              "      <td>73</td>\n",
              "      <td>2021/03/14</td>\n",
              "      <td>17:25</td>\n",
              "      <td>554</td>\n",
              "      <td>Hualien</td>\n",
              "      <td>0.0</td>\n",
              "      <td>C</td>\n",
              "    </tr>\n",
              "    <tr>\n",
              "      <th>10</th>\n",
              "      <td>223021</td>\n",
              "      <td>Zhunan</td>\n",
              "      <td>1</td>\n",
              "      <td>66</td>\n",
              "      <td>2021/03/14</td>\n",
              "      <td>19:04</td>\n",
              "      <td>554</td>\n",
              "      <td>Hualien</td>\n",
              "      <td>1.0</td>\n",
              "      <td>C</td>\n",
              "    </tr>\n",
              "    <tr>\n",
              "      <th>6</th>\n",
              "      <td>141012</td>\n",
              "      <td>Hsinchu</td>\n",
              "      <td>1</td>\n",
              "      <td>109</td>\n",
              "      <td>2021/03/14</td>\n",
              "      <td>19:23</td>\n",
              "      <td>554</td>\n",
              "      <td>Hualien</td>\n",
              "      <td>1.0</td>\n",
              "      <td>C</td>\n",
              "    </tr>\n",
              "    <tr>\n",
              "      <th>0</th>\n",
              "      <td>12386</td>\n",
              "      <td>Zhongli</td>\n",
              "      <td>1</td>\n",
              "      <td>76</td>\n",
              "      <td>2021/03/14</td>\n",
              "      <td>20:06</td>\n",
              "      <td>554</td>\n",
              "      <td>Hualien</td>\n",
              "      <td>1.0</td>\n",
              "      <td>C</td>\n",
              "    </tr>\n",
              "    <tr>\n",
              "      <th>8</th>\n",
              "      <td>181163</td>\n",
              "      <td>Taoyuan</td>\n",
              "      <td>1</td>\n",
              "      <td>77</td>\n",
              "      <td>2021/03/14</td>\n",
              "      <td>20:18</td>\n",
              "      <td>554</td>\n",
              "      <td>Hualien</td>\n",
              "      <td>1.0</td>\n",
              "      <td>C</td>\n",
              "    </tr>\n",
              "    <tr>\n",
              "      <th>7</th>\n",
              "      <td>164779</td>\n",
              "      <td>Banqiao</td>\n",
              "      <td>1</td>\n",
              "      <td>133</td>\n",
              "      <td>2021/03/14</td>\n",
              "      <td>20:46</td>\n",
              "      <td>554</td>\n",
              "      <td>Hualien</td>\n",
              "      <td>14.0</td>\n",
              "      <td>C</td>\n",
              "    </tr>\n",
              "    <tr>\n",
              "      <th>11</th>\n",
              "      <td>262416</td>\n",
              "      <td>Taipei</td>\n",
              "      <td>1</td>\n",
              "      <td>137</td>\n",
              "      <td>2021/03/14</td>\n",
              "      <td>21:05</td>\n",
              "      <td>554</td>\n",
              "      <td>Hualien</td>\n",
              "      <td>28.0</td>\n",
              "      <td>C</td>\n",
              "    </tr>\n",
              "    <tr>\n",
              "      <th>9</th>\n",
              "      <td>198200</td>\n",
              "      <td>Xizhi</td>\n",
              "      <td>1</td>\n",
              "      <td>93</td>\n",
              "      <td>2021/03/14</td>\n",
              "      <td>21:25</td>\n",
              "      <td>554</td>\n",
              "      <td>Hualien</td>\n",
              "      <td>30.0</td>\n",
              "      <td>C</td>\n",
              "    </tr>\n",
              "  </tbody>\n",
              "</table>\n",
              "</div>"
            ],
            "text/plain": [
              "     index     Station  direction   id  ...  num     dest  delay type\n",
              "13  318746   Kaohsiung          1   44  ...  554  Hualien    0.0    C\n",
              "5   107900  Xinzuoying          1   44  ...  554  Hualien    0.0    C\n",
              "12  279808      Tainan          1   51  ...  554  Hualien    1.0    C\n",
              "2    40936      Chiayi          1   49  ...  554  Hualien    0.0    C\n",
              "4    93717      Douliu          1   45  ...  554  Hualien    1.0    C\n",
              "1    27694     Yuanlin          1   48  ...  554  Hualien    2.0    C\n",
              "3    81988    Changhua          1   73  ...  554  Hualien    0.0    C\n",
              "10  223021      Zhunan          1   66  ...  554  Hualien    1.0    C\n",
              "6   141012     Hsinchu          1  109  ...  554  Hualien    1.0    C\n",
              "0    12386     Zhongli          1   76  ...  554  Hualien    1.0    C\n",
              "8   181163     Taoyuan          1   77  ...  554  Hualien    1.0    C\n",
              "7   164779     Banqiao          1  133  ...  554  Hualien   14.0    C\n",
              "11  262416      Taipei          1  137  ...  554  Hualien   28.0    C\n",
              "9   198200       Xizhi          1   93  ...  554  Hualien   30.0    C\n",
              "\n",
              "[14 rows x 10 columns]"
            ]
          },
          "metadata": {
            "tags": []
          },
          "execution_count": 309
        }
      ]
    },
    {
      "cell_type": "code",
      "metadata": {
        "id": "buLj4INuag8M"
      },
      "source": [
        "list554 = [1262,160,142,288,1268,4248,1272,522]\n",
        "rail554 = dataFrame_3m14d[dataFrame_3m14d[\"num\"].isin(list554)]\n",
        "rail554ty = rail554[rail554[\"Station\"]==\"Taoyuan\"][\"delay\"].mean()\n",
        "rail554bq = rail554[rail554[\"Station\"]==\"Banqiao\"][\"delay\"].mean()\n",
        "rail554tp = rail554[rail554[\"Station\"]==\"Taipei\"][\"delay\"].mean()"
      ],
      "execution_count": 310,
      "outputs": []
    },
    {
      "cell_type": "markdown",
      "metadata": {
        "id": "IlJzvM91oa0b"
      },
      "source": [
        "** **連假晚上撞到不明物體  [情報] 152車次自強號民雄頭橋急停 https://www.ptt.cc/bbs/Railway/M.1613134577.A.A67.html**"
      ]
    },
    {
      "cell_type": "code",
      "metadata": {
        "colab": {
          "base_uri": "https://localhost:8080/",
          "height": 573
        },
        "id": "ocQ4JkD_P2t4",
        "outputId": "20f2f966-18b8-47b7-cab1-4cd518639681"
      },
      "source": [
        "dataFrame_2m12d = dataFrame.drop(index=dataFrame[dataFrame['date']!='2021/02/12'].index)\n",
        "dataFrame_2m12d_152 = dataFrame_2m12d.drop(index=dataFrame_2m12d[dataFrame_2m12d['num']!=152].index)\n",
        "dataFrame_2m12d_152.sort_values(by=['time'], inplace=True)\n",
        "dataFrame_2m12d_152"
      ],
      "execution_count": 311,
      "outputs": [
        {
          "output_type": "execute_result",
          "data": {
            "text/html": [
              "<div>\n",
              "<style scoped>\n",
              "    .dataframe tbody tr th:only-of-type {\n",
              "        vertical-align: middle;\n",
              "    }\n",
              "\n",
              "    .dataframe tbody tr th {\n",
              "        vertical-align: top;\n",
              "    }\n",
              "\n",
              "    .dataframe thead th {\n",
              "        text-align: right;\n",
              "    }\n",
              "</style>\n",
              "<table border=\"1\" class=\"dataframe\">\n",
              "  <thead>\n",
              "    <tr style=\"text-align: right;\">\n",
              "      <th></th>\n",
              "      <th>Station</th>\n",
              "      <th>direction</th>\n",
              "      <th>id</th>\n",
              "      <th>date</th>\n",
              "      <th>time</th>\n",
              "      <th>num</th>\n",
              "      <th>dest</th>\n",
              "      <th>delay</th>\n",
              "      <th>type</th>\n",
              "    </tr>\n",
              "  </thead>\n",
              "  <tbody>\n",
              "    <tr>\n",
              "      <th>257552</th>\n",
              "      <td>Taipei</td>\n",
              "      <td>1</td>\n",
              "      <td>1</td>\n",
              "      <td>2021/02/12</td>\n",
              "      <td>00:03</td>\n",
              "      <td>152</td>\n",
              "      <td>Qidu</td>\n",
              "      <td>1.0</td>\n",
              "      <td>B</td>\n",
              "    </tr>\n",
              "    <tr>\n",
              "      <th>194730</th>\n",
              "      <td>Xizhi</td>\n",
              "      <td>1</td>\n",
              "      <td>2</td>\n",
              "      <td>2021/02/12</td>\n",
              "      <td>00:21</td>\n",
              "      <td>152</td>\n",
              "      <td>Qidu</td>\n",
              "      <td>1.0</td>\n",
              "      <td>B</td>\n",
              "    </tr>\n",
              "    <tr>\n",
              "      <th>315877</th>\n",
              "      <td>Kaohsiung</td>\n",
              "      <td>1</td>\n",
              "      <td>77</td>\n",
              "      <td>2021/02/12</td>\n",
              "      <td>19:06</td>\n",
              "      <td>152</td>\n",
              "      <td>Qidu</td>\n",
              "      <td>0.0</td>\n",
              "      <td>B</td>\n",
              "    </tr>\n",
              "    <tr>\n",
              "      <th>105023</th>\n",
              "      <td>Xinzuoying</td>\n",
              "      <td>1</td>\n",
              "      <td>78</td>\n",
              "      <td>2021/02/12</td>\n",
              "      <td>19:17</td>\n",
              "      <td>152</td>\n",
              "      <td>Qidu</td>\n",
              "      <td>0.0</td>\n",
              "      <td>B</td>\n",
              "    </tr>\n",
              "    <tr>\n",
              "      <th>276670</th>\n",
              "      <td>Tainan</td>\n",
              "      <td>1</td>\n",
              "      <td>84</td>\n",
              "      <td>2021/02/12</td>\n",
              "      <td>19:48</td>\n",
              "      <td>152</td>\n",
              "      <td>Qidu</td>\n",
              "      <td>0.0</td>\n",
              "      <td>B</td>\n",
              "    </tr>\n",
              "    <tr>\n",
              "      <th>38332</th>\n",
              "      <td>Chiayi</td>\n",
              "      <td>1</td>\n",
              "      <td>76</td>\n",
              "      <td>2021/02/12</td>\n",
              "      <td>20:30</td>\n",
              "      <td>152</td>\n",
              "      <td>Qidu</td>\n",
              "      <td>38.0</td>\n",
              "      <td>B</td>\n",
              "    </tr>\n",
              "    <tr>\n",
              "      <th>91610</th>\n",
              "      <td>Douliu</td>\n",
              "      <td>1</td>\n",
              "      <td>63</td>\n",
              "      <td>2021/02/12</td>\n",
              "      <td>20:50</td>\n",
              "      <td>152</td>\n",
              "      <td>Qidu</td>\n",
              "      <td>41.0</td>\n",
              "      <td>B</td>\n",
              "    </tr>\n",
              "    <tr>\n",
              "      <th>25464</th>\n",
              "      <td>Yuanlin</td>\n",
              "      <td>1</td>\n",
              "      <td>67</td>\n",
              "      <td>2021/02/12</td>\n",
              "      <td>21:14</td>\n",
              "      <td>152</td>\n",
              "      <td>Qidu</td>\n",
              "      <td>39.0</td>\n",
              "      <td>B</td>\n",
              "    </tr>\n",
              "    <tr>\n",
              "      <th>78755</th>\n",
              "      <td>Changhua</td>\n",
              "      <td>1</td>\n",
              "      <td>103</td>\n",
              "      <td>2021/02/12</td>\n",
              "      <td>21:27</td>\n",
              "      <td>152</td>\n",
              "      <td>Qidu</td>\n",
              "      <td>39.0</td>\n",
              "      <td>B</td>\n",
              "    </tr>\n",
              "    <tr>\n",
              "      <th>237466</th>\n",
              "      <td>Taichung</td>\n",
              "      <td>1</td>\n",
              "      <td>81</td>\n",
              "      <td>2021/02/12</td>\n",
              "      <td>21:43</td>\n",
              "      <td>152</td>\n",
              "      <td>Qidu</td>\n",
              "      <td>36.0</td>\n",
              "      <td>B</td>\n",
              "    </tr>\n",
              "    <tr>\n",
              "      <th>302440</th>\n",
              "      <td>Fengyuan</td>\n",
              "      <td>1</td>\n",
              "      <td>68</td>\n",
              "      <td>2021/02/12</td>\n",
              "      <td>21:54</td>\n",
              "      <td>152</td>\n",
              "      <td>Qidu</td>\n",
              "      <td>38.0</td>\n",
              "      <td>B</td>\n",
              "    </tr>\n",
              "    <tr>\n",
              "      <th>288466</th>\n",
              "      <td>Miaoli</td>\n",
              "      <td>1</td>\n",
              "      <td>58</td>\n",
              "      <td>2021/02/12</td>\n",
              "      <td>22:20</td>\n",
              "      <td>152</td>\n",
              "      <td>Qidu</td>\n",
              "      <td>35.0</td>\n",
              "      <td>B</td>\n",
              "    </tr>\n",
              "    <tr>\n",
              "      <th>220481</th>\n",
              "      <td>Zhunan</td>\n",
              "      <td>1</td>\n",
              "      <td>84</td>\n",
              "      <td>2021/02/12</td>\n",
              "      <td>22:32</td>\n",
              "      <td>152</td>\n",
              "      <td>Qidu</td>\n",
              "      <td>34.0</td>\n",
              "      <td>B</td>\n",
              "    </tr>\n",
              "    <tr>\n",
              "      <th>136664</th>\n",
              "      <td>Hsinchu</td>\n",
              "      <td>1</td>\n",
              "      <td>141</td>\n",
              "      <td>2021/02/12</td>\n",
              "      <td>22:48</td>\n",
              "      <td>152</td>\n",
              "      <td>Qidu</td>\n",
              "      <td>33.0</td>\n",
              "      <td>B</td>\n",
              "    </tr>\n",
              "    <tr>\n",
              "      <th>9554</th>\n",
              "      <td>Zhongli</td>\n",
              "      <td>1</td>\n",
              "      <td>96</td>\n",
              "      <td>2021/02/12</td>\n",
              "      <td>23:16</td>\n",
              "      <td>152</td>\n",
              "      <td>Qidu</td>\n",
              "      <td>32.0</td>\n",
              "      <td>B</td>\n",
              "    </tr>\n",
              "    <tr>\n",
              "      <th>178243</th>\n",
              "      <td>Taoyuan</td>\n",
              "      <td>1</td>\n",
              "      <td>99</td>\n",
              "      <td>2021/02/12</td>\n",
              "      <td>23:27</td>\n",
              "      <td>152</td>\n",
              "      <td>Qidu</td>\n",
              "      <td>31.0</td>\n",
              "      <td>B</td>\n",
              "    </tr>\n",
              "    <tr>\n",
              "      <th>160110</th>\n",
              "      <td>Banqiao</td>\n",
              "      <td>1</td>\n",
              "      <td>162</td>\n",
              "      <td>2021/02/12</td>\n",
              "      <td>23:52</td>\n",
              "      <td>152</td>\n",
              "      <td>Qidu</td>\n",
              "      <td>32.0</td>\n",
              "      <td>B</td>\n",
              "    </tr>\n",
              "  </tbody>\n",
              "</table>\n",
              "</div>"
            ],
            "text/plain": [
              "           Station  direction   id        date   time  num  dest  delay type\n",
              "257552      Taipei          1    1  2021/02/12  00:03  152  Qidu    1.0    B\n",
              "194730       Xizhi          1    2  2021/02/12  00:21  152  Qidu    1.0    B\n",
              "315877   Kaohsiung          1   77  2021/02/12  19:06  152  Qidu    0.0    B\n",
              "105023  Xinzuoying          1   78  2021/02/12  19:17  152  Qidu    0.0    B\n",
              "276670      Tainan          1   84  2021/02/12  19:48  152  Qidu    0.0    B\n",
              "38332       Chiayi          1   76  2021/02/12  20:30  152  Qidu   38.0    B\n",
              "91610       Douliu          1   63  2021/02/12  20:50  152  Qidu   41.0    B\n",
              "25464      Yuanlin          1   67  2021/02/12  21:14  152  Qidu   39.0    B\n",
              "78755     Changhua          1  103  2021/02/12  21:27  152  Qidu   39.0    B\n",
              "237466    Taichung          1   81  2021/02/12  21:43  152  Qidu   36.0    B\n",
              "302440    Fengyuan          1   68  2021/02/12  21:54  152  Qidu   38.0    B\n",
              "288466      Miaoli          1   58  2021/02/12  22:20  152  Qidu   35.0    B\n",
              "220481      Zhunan          1   84  2021/02/12  22:32  152  Qidu   34.0    B\n",
              "136664     Hsinchu          1  141  2021/02/12  22:48  152  Qidu   33.0    B\n",
              "9554       Zhongli          1   96  2021/02/12  23:16  152  Qidu   32.0    B\n",
              "178243     Taoyuan          1   99  2021/02/12  23:27  152  Qidu   31.0    B\n",
              "160110     Banqiao          1  162  2021/02/12  23:52  152  Qidu   32.0    B"
            ]
          },
          "metadata": {
            "tags": []
          },
          "execution_count": 311
        }
      ]
    },
    {
      "cell_type": "code",
      "metadata": {
        "id": "SsAmnRDifNKJ"
      },
      "source": [
        "list152 = [2284,374,758,3258]\n",
        "rail152 = dataFrame_2m12d[dataFrame_2m12d[\"num\"].isin(list152)]\n",
        "rail152cy = rail152[rail152[\"Station\"]==\"Chiayi\"][\"delay\"].mean()\n",
        "rail152dl = rail152[rail152[\"Station\"]==\"Douliu\"][\"delay\"].mean()\n",
        "rail152yl = rail152[rail152[\"Station\"]==\"Yuanlin\"][\"delay\"].mean()"
      ],
      "execution_count": 312,
      "outputs": []
    },
    {
      "cell_type": "markdown",
      "metadata": {
        "id": "InosbXL-YIYp"
      },
      "source": [
        "**==========分析==========**"
      ]
    },
    {
      "cell_type": "markdown",
      "metadata": {
        "id": "UW_fO61LICm5"
      },
      "source": [
        "**平日**"
      ]
    },
    {
      "cell_type": "code",
      "metadata": {
        "colab": {
          "base_uri": "https://localhost:8080/"
        },
        "id": "KV-fdHUgGEwo",
        "outputId": "1faee9a8-ee6c-4bd4-a3b4-6fe7e65fdf09"
      },
      "source": [
        "delay_1_noho = rail106zl+rail115hs+rail114tn+rail521ty\n",
        "delay_2_noho = rail106ty+rail115zl+rail114cy+rail521zl\n",
        "delay_3_noho = rail106bq+rail115ml+rail114dl+rail521hs\n",
        "print(delay_1_noho/4)\n",
        "print(delay_2_noho/4)\n",
        "print(delay_3_noho/4)"
      ],
      "execution_count": 313,
      "outputs": [
        {
          "output_type": "stream",
          "text": [
            "12.080357142857142\n",
            "12.196428571428571\n",
            "13.80952380952381\n"
          ],
          "name": "stdout"
        }
      ]
    },
    {
      "cell_type": "markdown",
      "metadata": {
        "id": "U6PvUXo4IGAJ"
      },
      "source": [
        "**連假日**"
      ]
    },
    {
      "cell_type": "code",
      "metadata": {
        "colab": {
          "base_uri": "https://localhost:8080/"
        },
        "id": "WuqX7xliq8KI",
        "outputId": "bc58a607-83bd-4170-ce3f-ee4ed4b62ec4"
      },
      "source": [
        "delay_1_ho = rail554ty+rail152cy\n",
        "delay_2_ho = rail554bq+rail152dl\n",
        "delay_3_ho = rail554tp+rail152yl\n",
        "print(delay_1_ho/2)\n",
        "print(delay_2_ho/2)\n",
        "print(delay_3_ho/2)"
      ],
      "execution_count": 314,
      "outputs": [
        {
          "output_type": "stream",
          "text": [
            "10.267857142857142\n",
            "11.125\n",
            "11.6875\n"
          ],
          "name": "stdout"
        }
      ]
    },
    {
      "cell_type": "markdown",
      "metadata": {
        "id": "Efjxl_AwIfdi"
      },
      "source": [
        "**自強**"
      ]
    },
    {
      "cell_type": "code",
      "metadata": {
        "colab": {
          "base_uri": "https://localhost:8080/"
        },
        "id": "Gy7Em64vIfHj",
        "outputId": "2e1e18d0-0341-4eef-fb9d-53e3d4b01f15"
      },
      "source": [
        "tc_1_delay = rail114tn+rail152cy+rail115hs+rail106zl\n",
        "tc_2_delay = rail114cy+rail152dl+rail115zl+rail106ty\n",
        "tc_3_delay = rail114dl+rail152yl+rail115ml+rail106bq\n",
        "print(tc_1_delay/4)\n",
        "print(tc_2_delay/4)\n",
        "print(tc_3_delay/4)"
      ],
      "execution_count": 315,
      "outputs": [
        {
          "output_type": "stream",
          "text": [
            "12.580357142857142\n",
            "11.508928571428571\n",
            "11.880952380952381\n"
          ],
          "name": "stdout"
        }
      ]
    },
    {
      "cell_type": "markdown",
      "metadata": {
        "id": "UzN_F6PBIiOO"
      },
      "source": [
        "**莒光(區間適用)**"
      ]
    },
    {
      "cell_type": "code",
      "metadata": {
        "colab": {
          "base_uri": "https://localhost:8080/"
        },
        "id": "dTSFbR7pIhvD",
        "outputId": "b635d3c1-eac9-4de3-973b-783f9769e642"
      },
      "source": [
        "ck_1_delay = rail521ty+rail554ty\n",
        "ck_2_delay = rail521zl+rail554bq\n",
        "ck_3_delay = rail521hs+rail554tp\n",
        "print(ck_1_delay/2)\n",
        "print(ck_2_delay/2)\n",
        "print(ck_3_delay/2)"
      ],
      "execution_count": 316,
      "outputs": [
        {
          "output_type": "stream",
          "text": [
            "9.267857142857142\n",
            "12.5\n",
            "15.544642857142858\n"
          ],
          "name": "stdout"
        }
      ]
    },
    {
      "cell_type": "markdown",
      "metadata": {
        "id": "0SqsFuvrL9b-"
      },
      "source": [
        "**設備、車輛調度...可控因素**"
      ]
    },
    {
      "cell_type": "code",
      "metadata": {
        "colab": {
          "base_uri": "https://localhost:8080/"
        },
        "id": "YyxbB8fcL-NV",
        "outputId": "d6118947-bd63-4d02-e7c9-8ed6ce2dc2e2"
      },
      "source": [
        "control_1_delay = rail521ty+rail554ty+rail115hs+rail114tn\n",
        "control_2_delay = rail521zl+rail554bq+rail115zl+rail114cy\n",
        "control_3_delay = rail521hs+rail554tp+rail115ml+rail114dl\n",
        "print(control_1_delay/4)\n",
        "print(control_2_delay/4)\n",
        "print(control_3_delay/4)"
      ],
      "execution_count": 317,
      "outputs": [
        {
          "output_type": "stream",
          "text": [
            "11.758928571428571\n",
            "13.0\n",
            "15.188988095238095\n"
          ],
          "name": "stdout"
        }
      ]
    },
    {
      "cell_type": "markdown",
      "metadata": {
        "id": "8lzxt-9-L9oL"
      },
      "source": [
        "**被撞、氣候...不可控因素**"
      ]
    },
    {
      "cell_type": "code",
      "metadata": {
        "colab": {
          "base_uri": "https://localhost:8080/"
        },
        "id": "FeWhqDcWMIDt",
        "outputId": "b0958263-ac1a-46f5-bb3e-81b928f7e8d9"
      },
      "source": [
        "uncontrol_1_delay = rail152cy+rail106zl\n",
        "uncontrol_2_delay = rail152dl+rail106ty\n",
        "uncontrol_3_delay = rail152yl+rail106bq\n",
        "print(uncontrol_1_delay/2)\n",
        "print(uncontrol_2_delay/2)\n",
        "print(uncontrol_3_delay/2)"
      ],
      "execution_count": 318,
      "outputs": [
        {
          "output_type": "stream",
          "text": [
            "10.910714285714285\n",
            "9.517857142857142\n",
            "8.928571428571429\n"
          ],
          "name": "stdout"
        }
      ]
    },
    {
      "cell_type": "markdown",
      "metadata": {
        "id": "YyNsaoPgRfZ-"
      },
      "source": [
        "**全部1.2.3**"
      ]
    },
    {
      "cell_type": "code",
      "metadata": {
        "colab": {
          "base_uri": "https://localhost:8080/"
        },
        "id": "du6C3A5jRfBa",
        "outputId": "e4b3e1dd-a156-454d-889f-fa9e88221c40"
      },
      "source": [
        "#1\n",
        "no_1_delay = rail554ty+rail115hs+rail521ty+rail114tn+rail152cy+rail106zl\n",
        "print(no_1_delay/6)\n",
        "#2\n",
        "\n",
        "no_2_delay = rail554bq+rail115zl+rail521zl+rail114cy+rail152dl+rail106ty\n",
        "print(no_2_delay/6)\n",
        "#3\n",
        "no_3_delay = rail554tp+rail115ml+rail521hs+rail114dl+rail152yl+rail106bq\n",
        "print(no_3_delay/6)"
      ],
      "execution_count": 319,
      "outputs": [
        {
          "output_type": "stream",
          "text": [
            "11.476190476190476\n",
            "11.839285714285715\n",
            "13.10218253968254\n"
          ],
          "name": "stdout"
        }
      ]
    },
    {
      "cell_type": "markdown",
      "metadata": {
        "id": "ih4Q9TgOPVkN"
      },
      "source": [
        "**(放著)車站別(南北)**"
      ]
    },
    {
      "cell_type": "code",
      "metadata": {
        "id": "A306Xfv5PVO2"
      },
      "source": [
        "rail554ty = rail554[rail554[\"Station\"]==\"Taoyuan\"]\n",
        "rail106ty = rail106[rail106[\"Station\"]==\"Taoyuan\"]\n",
        "rail521ty = rail521[rail521[\"Station\"]==\"Taoyuan\"]\n",
        "rail106bq = rail106[rail106[\"Station\"]==\"Banqiao\"]\n",
        "rail554bq = rail554[rail554[\"Station\"]==\"Banqiao\"]\n",
        "rail554tp = rail554[rail554[\"Station\"]==\"Taipei\"]\n",
        "rail115hs = rail115[rail115[\"Station\"]==\"Hsinchu\"]\n",
        "rail521hs = rail521[rail521[\"Station\"]==\"Hsinchu\"]\n",
        "rail115zl = rail115[rail115[\"Station\"]==\"Zhunan\"]\n",
        "rail115ml = rail115[rail115[\"Station\"]==\"Miaoli\"]\n",
        "rail521zl = rail521[rail521[\"Station\"]==\"Zhongli\"]\n",
        "rail106zl = rail106[rail106[\"Station\"]==\"Zhongli\"]\n",
        "#pd.concat([rail554ty,rail106ty,rail521ty,rail106bq,rail554bq,rail554tp,rail115hs,rail521hs,rail115zl,rail115ml,rail521zl,rail106zl])\n",
        "\n",
        "\n",
        "rail114tn = rail114[rail114[\"Station\"]==\"Tainan\"]\n",
        "rail114cy = rail114[rail114[\"Station\"]==\"Chiayi\"]\n",
        "rail152cy = rail152[rail152[\"Station\"]==\"Chiayi\"]\n",
        "rail114dl = rail114[rail114[\"Station\"]==\"Douliu\"]\n",
        "rail152dl = rail152[rail152[\"Station\"]==\"Douliu\"]\n",
        "rail152yl = rail152[rail152[\"Station\"]==\"Yuanlin\"]\n",
        "#pd.concat([rail114tn,rail114cy,rail114cy,rail114dl,rail152dl,rail152yl])"
      ],
      "execution_count": 320,
      "outputs": []
    }
  ]
}
