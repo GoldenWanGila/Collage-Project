{
  "nbformat": 4,
  "nbformat_minor": 0,
  "metadata": {
    "colab": {
      "name": "逆行車站.ipynb",
      "provenance": [],
      "collapsed_sections": [],
      "authorship_tag": "ABX9TyMr4V+MxZrLjEJ3tT0app3e",
      "include_colab_link": true
    },
    "kernelspec": {
      "name": "python3",
      "display_name": "Python 3"
    },
    "language_info": {
      "name": "python"
    }
  },
  "cells": [
    {
      "cell_type": "markdown",
      "metadata": {
        "id": "view-in-github",
        "colab_type": "text"
      },
      "source": [
        "<a href=\"https://colab.research.google.com/github/GoldenWanGila/Collage-Project/blob/master/%E9%80%86%E8%A1%8C%E8%BB%8A%E7%AB%99.ipynb\" target=\"_parent\"><img src=\"https://colab.research.google.com/assets/colab-badge.svg\" alt=\"Open In Colab\"/></a>"
      ]
    },
    {
      "cell_type": "code",
      "metadata": {
        "colab": {
          "base_uri": "https://localhost:8080/"
        },
        "id": "bLgsWK2obBAp",
        "outputId": "1e61fd6a-3da8-4855-ad8b-6a8e4cbdf2b0"
      },
      "source": [
        "from google.colab import drive\n",
        "drive.mount('/content/drive')"
      ],
      "execution_count": 204,
      "outputs": [
        {
          "output_type": "stream",
          "text": [
            "Drive already mounted at /content/drive; to attempt to forcibly remount, call drive.mount(\"/content/drive\", force_remount=True).\n"
          ],
          "name": "stdout"
        }
      ]
    },
    {
      "cell_type": "code",
      "metadata": {
        "colab": {
          "base_uri": "https://localhost:8080/"
        },
        "id": "W_rl1N1VaxUA",
        "outputId": "f38a168c-26b4-4425-a25c-336272e23847"
      },
      "source": [
        "import matplotlib.pyplot as plt\n",
        "from numpy.core import numeric\n",
        "import seaborn as sns; sns.set()\n",
        "import matplotlib as mpl\n",
        "import xgboost as xgb\n",
        "import numpy as np\n",
        "import pandas as pd\n",
        "import sklearn.linear_model\n",
        "import os\n",
        "from sklearn.metrics import mean_squared_error\n",
        "from math import sqrt\n",
        "from sklearn.datasets import make_classification\n",
        "from sklearn.linear_model import LinearRegression\n",
        "from sklearn.ensemble import RandomForestRegressor\n",
        "from sklearn.metrics import r2_score\n",
        "raill = pd.read_csv(\"/content/drive/MyDrive/railway.csv\")\n",
        "raill = raill.dropna()\n",
        "print(raill)\n",
        "raill = raill[raill[\"direction\"]==0]\n",
        "rail = pd.read_csv(\"/content/drive/MyDrive/railway_weekday_weedend.csv\")\n",
        "rail = rail.dropna()\n",
        "rail = rail[rail[\"direction\"]==0]\n",
        "rail.sort_values(by=[\"time\",\"date\"],inplace=True)\n",
        "listlist = [\"2021/02/10\",\"2021/02/11\",\"2021/02/12\",\"2021/02/13\",\"2021/02/14\",\"2021/02/15\",\"2021/02/16\",\"2021/04/02\",\"2021/04/03\",\"2021/04/04\",\"2021/04/05\",\"2021/02/26\",\"2021/02/27\",\"2021/02/28\",\"2021/03/01\"]\n",
        "railh = raill[raill[\"date\"].isin(listlist)]\n",
        "rail = rail[rail[\"date\"]>='2021/01/22']\n",
        "rail = rail[rail[\"date\"]!=\"2021/04/02\"]\n",
        "rail = rail[rail[\"date\"]!=\"2021/04/03\"]\n",
        "rail = rail[rail[\"date\"]!=\"2020/12/23\"]\n",
        "jj = rail[rail[\"date\"]==\"weekday\"]\n",
        "kk = rail[rail[\"date\"]==\"weekend\"]"
      ],
      "execution_count": 205,
      "outputs": [
        {
          "output_type": "stream",
          "text": [
            "          Station  direction  id        date  ...   num        dest delay  type\n",
            "0         Zhongli          0   1  2021/01/20  ...  1287     Zhongli   1.0     D\n",
            "1         Zhongli          0   2  2021/01/20  ...  1109     Hsinchu   1.0     D\n",
            "2         Zhongli          0   3  2021/01/20  ...  2011    Changhua   0.0     D\n",
            "3         Zhongli          0   4  2021/01/20  ...  1107      Miaoli   0.0     D\n",
            "4         Zhongli          0   5  2021/01/20  ...  2133      Chiayi   0.0     D\n",
            "...           ...        ...  ..         ...  ...   ...         ...   ...   ...\n",
            "321014  Kaohsiung          1  92  2021/04/06  ...  3088  Xinzuoying   1.0     D\n",
            "321015  Kaohsiung          1  93  2021/04/06  ...  3292      Tainan   0.0     D\n",
            "321016  Kaohsiung          1  94  2021/04/06  ...  3294      Tainan   0.0     D\n",
            "321017  Kaohsiung          1  95  2021/04/06  ...   332  Xinzuoying   0.0     B\n",
            "321018  Kaohsiung          1  96  2021/04/06  ...  3348  Xinzuoying   0.0     D\n",
            "\n",
            "[319726 rows x 9 columns]\n"
          ],
          "name": "stdout"
        }
      ]
    },
    {
      "cell_type": "code",
      "metadata": {
        "id": "NXXHfvGeBQRY"
      },
      "source": [
        "a = jj[jj[\"type\"]==\"A\"]\n",
        "b = jj[jj[\"type\"]==\"B\"]\n",
        "c = jj[jj[\"type\"]==\"C\"]\n",
        "d = jj[jj[\"type\"]==\"D\"]\n",
        "ak = kk[kk[\"type\"]==\"A\"]\n",
        "bk = kk[kk[\"type\"]==\"B\"]\n",
        "ck = kk[kk[\"type\"]==\"C\"]\n",
        "dk = kk[kk[\"type\"]==\"D\"]\n",
        "ah = railh[railh[\"type\"]==\"A\"]\n",
        "bh = railh[railh[\"type\"]==\"B\"]\n",
        "ch = railh[railh[\"type\"]==\"C\"]\n",
        "dh = railh[railh[\"type\"]==\"D\"]"
      ],
      "execution_count": 206,
      "outputs": []
    },
    {
      "cell_type": "code",
      "metadata": {
        "colab": {
          "base_uri": "https://localhost:8080/"
        },
        "id": "5CKf2Lg_urQ8",
        "outputId": "d89d419d-c8dd-4f11-ad15-644797ace4ef"
      },
      "source": [
        "atp = a[a[\"Station\"]==\"Taipei\"]\n",
        "print(atp[\"delay\"].mean())\n",
        "btp = b[b[\"Station\"]==\"Taipei\"]\n",
        "print(btp[\"delay\"].mean())\n",
        "dtp = d[d[\"Station\"]==\"Taipei\"]\n",
        "print(dtp[\"delay\"].mean())\n",
        "\n",
        "atpk = ak[ak[\"Station\"]==\"Taipei\"]\n",
        "print(atpk[\"delay\"].mean())\n",
        "btpk = bk[bk[\"Station\"]==\"Taipei\"]\n",
        "print(btpk[\"delay\"].mean())\n",
        "dtpk = dk[dk[\"Station\"]==\"Taipei\"]\n",
        "print(dtp[\"delay\"].mean())\n",
        "\n",
        "atph = ah[ah[\"Station\"]==\"Taipei\"]\n",
        "print(atph[\"delay\"].mean())\n",
        "btph = bh[bh[\"Station\"]==\"Taipei\"]\n",
        "print(btph[\"delay\"].mean())\n",
        "dtph = dh[dh[\"Station\"]==\"Taipei\"]\n",
        "print(dtph[\"delay\"].mean())"
      ],
      "execution_count": 207,
      "outputs": [
        {
          "output_type": "stream",
          "text": [
            "3.499639509733237\n",
            "2.1548672566371683\n",
            "1.801279488204718\n",
            "5.152209492635024\n",
            "3.5828313253012047\n",
            "1.801279488204718\n",
            "9.508120649651973\n",
            "6.338144329896907\n",
            "6.37481590574374\n"
          ],
          "name": "stdout"
        }
      ]
    },
    {
      "cell_type": "code",
      "metadata": {
        "colab": {
          "base_uri": "https://localhost:8080/"
        },
        "id": "2JpeinQx1dlR",
        "outputId": "20023c23-a9d6-44af-c224-65010257cd08"
      },
      "source": [
        "abq = a[a[\"Station\"]==\"Banqiao\"]\n",
        "print(abq[\"delay\"].mean())\n",
        "bbq = b[b[\"Station\"]==\"Banqiao\"]\n",
        "print(bbq[\"delay\"].mean())\n",
        "dbq = d[d[\"Station\"]==\"Banqiao\"]\n",
        "print(dbq[\"delay\"].mean())\n",
        "\n",
        "abqk = ak[ak[\"Station\"]==\"Banqiao\"]\n",
        "print(abqk[\"delay\"].mean())\n",
        "bbqk = bk[bk[\"Station\"]==\"Banqiao\"]\n",
        "print(bbqk[\"delay\"].mean())\n",
        "dbqk = dk[dk[\"Station\"]==\"Banqiao\"]\n",
        "print(dbq[\"delay\"].mean())\n",
        "\n",
        "abqh = ah[ah[\"Station\"]==\"Banqiao\"]\n",
        "print(abqh[\"delay\"].mean())\n",
        "bbqh = bh[bh[\"Station\"]==\"Banqiao\"]\n",
        "print(bbqh[\"delay\"].mean())\n",
        "dbqh = dh[dh[\"Station\"]==\"Banqiao\"]\n",
        "print(dbqh[\"delay\"].mean())"
      ],
      "execution_count": 208,
      "outputs": [
        {
          "output_type": "stream",
          "text": [
            "3.5832732516222063\n",
            "2.155315085932527\n",
            "1.839264294282287\n",
            "5.216039279869067\n",
            "3.5466867469879517\n",
            "1.839264294282287\n",
            "10.127610208816705\n",
            "6.678423236514523\n",
            "6.7297496318114876\n"
          ],
          "name": "stdout"
        }
      ]
    },
    {
      "cell_type": "code",
      "metadata": {
        "colab": {
          "base_uri": "https://localhost:8080/"
        },
        "id": "9tJADZTD2KcS",
        "outputId": "6709568a-5e8a-42cb-fe5f-25c4dd463cbf"
      },
      "source": [
        "aty = a[a[\"Station\"]==\"Taoyuan\"]\n",
        "print(aty[\"delay\"].mean())\n",
        "bty = b[b[\"Station\"]==\"Taoyuan\"]\n",
        "print(bty[\"delay\"].mean())\n",
        "dty = d[d[\"Station\"]==\"Taoyuan\"]\n",
        "print(dty[\"delay\"].mean())\n",
        "\n",
        "atyk = ak[ak[\"Station\"]==\"Taoyuan\"]\n",
        "print(atyk[\"delay\"].mean())\n",
        "btyk = bk[bk[\"Station\"]==\"Taoyuan\"]\n",
        "print(btyk[\"delay\"].mean())\n",
        "dtyk = dk[dk[\"Station\"]==\"Taoyuan\"]\n",
        "print(dty[\"delay\"].mean())\n",
        "\n",
        "atyh = ah[ah[\"Station\"]==\"Taoyuan\"]\n",
        "print(atyh[\"delay\"].mean())\n",
        "btyh = bh[bh[\"Station\"]==\"Taoyuan\"]\n",
        "print(btyh[\"delay\"].mean())\n",
        "dtyh = dh[dh[\"Station\"]==\"Taoyuan\"]\n",
        "print(dtyh[\"delay\"].mean())"
      ],
      "execution_count": 209,
      "outputs": [
        {
          "output_type": "stream",
          "text": [
            "3.103030303030303\n",
            "2.0824468085106385\n",
            "1.889763779527559\n",
            "4.863636363636363\n",
            "3.2095032397408207\n",
            "1.889763779527559\n",
            "6.377777777777778\n",
            "5.060126582278481\n",
            "6.847847847847848\n"
          ],
          "name": "stdout"
        }
      ]
    },
    {
      "cell_type": "code",
      "metadata": {
        "colab": {
          "base_uri": "https://localhost:8080/"
        },
        "id": "uL67E-g-2eBc",
        "outputId": "24e67ae4-9c0b-4378-cbd6-1f0c884e9340"
      },
      "source": [
        "azl = a[a[\"Station\"]==\"Zhongli\"]\n",
        "print(azl[\"delay\"].mean())\n",
        "bzl = b[b[\"Station\"]==\"Zhongli\"]\n",
        "print(bzl[\"delay\"].mean())\n",
        "dzl = d[d[\"Station\"]==\"Zhongli\"]\n",
        "print(dzl[\"delay\"].mean())\n",
        "\n",
        "azlk = ak[ak[\"Station\"]==\"Zhongli\"]\n",
        "print(azlk[\"delay\"].mean())\n",
        "bzlk = bk[bk[\"Station\"]==\"Zhongli\"]\n",
        "print(bzlk[\"delay\"].mean())\n",
        "dzlk = dk[dk[\"Station\"]==\"Zhongli\"]\n",
        "print(dzl[\"delay\"].mean())\n",
        "\n",
        "azlh = ah[ah[\"Station\"]==\"Zhongli\"]\n",
        "print(azlh[\"delay\"].mean())\n",
        "bzlh = bh[bh[\"Station\"]==\"Zhongli\"]\n",
        "print(bzlh[\"delay\"].mean())\n",
        "dzlh = dh[dh[\"Station\"]==\"Zhongli\"]\n",
        "print(dzlh[\"delay\"].mean())"
      ],
      "execution_count": 210,
      "outputs": [
        {
          "output_type": "stream",
          "text": [
            "5.1909090909090905\n",
            "2.9441489361702127\n",
            "2.453267162944582\n",
            "6.636363636363637\n",
            "4.116630669546436\n",
            "2.453267162944582\n",
            "8.433333333333334\n",
            "6.025316455696203\n",
            "7.338414634146342\n"
          ],
          "name": "stdout"
        }
      ]
    },
    {
      "cell_type": "code",
      "metadata": {
        "colab": {
          "base_uri": "https://localhost:8080/"
        },
        "id": "yuMZxW2a2jUE",
        "outputId": "74edf61d-cc3f-4a74-928d-8abfe2b5e09c"
      },
      "source": [
        "ahs = a[a[\"Station\"]==\"Hsinchu\"]\n",
        "print(ahs[\"delay\"].mean())\n",
        "bhs = b[b[\"Station\"]==\"Hsinchu\"]\n",
        "print(bhs[\"delay\"].mean())\n",
        "dhs = d[d[\"Station\"]==\"Hsinchu\"]\n",
        "print(dhs[\"delay\"].mean())\n",
        "\n",
        "ahsk = ak[ak[\"Station\"]==\"Hsinchu\"]\n",
        "print(ahsk[\"delay\"].mean())\n",
        "bhsk = bk[bk[\"Station\"]==\"Hsinchu\"]\n",
        "print(bhsk[\"delay\"].mean())\n",
        "dhsk = dk[dk[\"Station\"]==\"Hsinchu\"]\n",
        "print(dhs[\"delay\"].mean())\n",
        "\n",
        "ahsh = ah[ah[\"Station\"]==\"Hsinchu\"]\n",
        "print(ahsh[\"delay\"].mean())\n",
        "bhsh = bh[bh[\"Station\"]==\"Hsinchu\"]\n",
        "print(bhsh[\"delay\"].mean())\n",
        "dhsh = dh[dh[\"Station\"]==\"Hsinchu\"]\n",
        "print(dhsh[\"delay\"].mean())"
      ],
      "execution_count": 211,
      "outputs": [
        {
          "output_type": "stream",
          "text": [
            "4.919811320754717\n",
            "3.048938134810711\n",
            "1.614002686366689\n",
            "7.545454545454546\n",
            "4.086767895878525\n",
            "1.614002686366689\n",
            "9.15\n",
            "6.025316455696203\n",
            "3.8023391812865497\n"
          ],
          "name": "stdout"
        }
      ]
    },
    {
      "cell_type": "code",
      "metadata": {
        "colab": {
          "base_uri": "https://localhost:8080/"
        },
        "id": "oCt9nwSz2pwG",
        "outputId": "1c6d89fd-f779-4491-d90d-3f037830ff2c"
      },
      "source": [
        "azn = a[a[\"Station\"]==\"Zhunan\"]\n",
        "print(azn[\"delay\"].mean())\n",
        "bzn = b[b[\"Station\"]==\"Zhunan\"]\n",
        "print(bzn[\"delay\"].mean())\n",
        "dzn = d[d[\"Station\"]==\"Zhunan\"]\n",
        "print(dzn[\"delay\"].mean())\n",
        "\n",
        "aznk = ak[ak[\"Station\"]==\"Zhunan\"]\n",
        "print(aznk[\"delay\"].mean())\n",
        "bznk = bk[bk[\"Station\"]==\"Zhunan\"]\n",
        "print(bznk[\"delay\"].mean())\n",
        "dznk = dk[dk[\"Station\"]==\"Zhunan\"]\n",
        "print(dzn[\"delay\"].mean())\n",
        "\n",
        "aznh = ah[ah[\"Station\"]==\"Zhunan\"]\n",
        "print(aznh[\"delay\"].mean())\n",
        "bznh = bh[bh[\"Station\"]==\"Zhunan\"]\n",
        "print(bznh[\"delay\"].mean())\n",
        "dznh = dh[dh[\"Station\"]==\"Zhunan\"]\n",
        "print(dznh[\"delay\"].mean())"
      ],
      "execution_count": 212,
      "outputs": [
        {
          "output_type": "stream",
          "text": [
            "7.0181818181818185\n",
            "3.111111111111111\n",
            "2.1237144585601935\n",
            "8.909090909090908\n",
            "4.100755667506297\n",
            "2.1237144585601935\n",
            "9.6\n",
            "6.416974169741698\n",
            "4.738748627881449\n"
          ],
          "name": "stdout"
        }
      ]
    },
    {
      "cell_type": "code",
      "metadata": {
        "colab": {
          "base_uri": "https://localhost:8080/"
        },
        "id": "tXcS-dfz28a9",
        "outputId": "b759600a-5511-41f2-ba5d-ea980d467b0b"
      },
      "source": [
        "aml = a[a[\"Station\"]==\"Miaoli\"]\n",
        "print(aml[\"delay\"].mean())\n",
        "bml = b[b[\"Station\"]==\"Miaoli\"]\n",
        "print(bml[\"delay\"].mean())\n",
        "dml = d[d[\"Station\"]==\"Miaoli\"]\n",
        "print(dml[\"delay\"].mean())\n",
        "\n",
        "amlk = ak[ak[\"Station\"]==\"Miaoli\"]\n",
        "print(amlk[\"delay\"].mean())\n",
        "bmlk = bk[bk[\"Station\"]==\"Miaoli\"]\n",
        "print(bmlk[\"delay\"].mean())\n",
        "dmlk = dk[dk[\"Station\"]==\"Miaoli\"]\n",
        "print(dml[\"delay\"].mean())\n",
        "\n",
        "amlh = ah[ah[\"Station\"]==\"Miaoli\"]\n",
        "print(amlh[\"delay\"].mean())\n",
        "bmlh = bh[bh[\"Station\"]==\"Miaoli\"]\n",
        "print(bmlh[\"delay\"].mean())\n",
        "dmlh = dh[dh[\"Station\"]==\"Miaoli\"]\n",
        "print(dmlh[\"delay\"].mean())"
      ],
      "execution_count": 213,
      "outputs": [
        {
          "output_type": "stream",
          "text": [
            "4.9\n",
            "3.0096153846153846\n",
            "2.3482952093223997\n",
            "8.045454545454545\n",
            "4.055555555555555\n",
            "2.3482952093223997\n",
            "10.733333333333333\n",
            "6.396946564885496\n",
            "5.669266770670827\n"
          ],
          "name": "stdout"
        }
      ]
    },
    {
      "cell_type": "code",
      "metadata": {
        "id": "9LZ-vZxOuh9L"
      },
      "source": [
        "label_map = {'Keelung':1,'Xizhi':2,'Taipei':3,'Banqiao':4,'Taoyuan':5,'Zhongli':6,'Hsinchu':7,'Zhunan':8,'Miaoli':9,'Fengyuan':10,'Taichung':11,'Changhua':12,'Yuanlin':13,\n",
        "'Douliu':14,'Chiayi':15,'Tainan':16,'Xinzuoying':17,'Kaohsiung':18,'Tanzi':0,'Taiyuan':0,'Xinwuri':0}"
      ],
      "execution_count": 214,
      "outputs": []
    },
    {
      "cell_type": "code",
      "metadata": {
        "colab": {
          "base_uri": "https://localhost:8080/"
        },
        "id": "zoDcOBbi3Ece",
        "outputId": "16400715-b768-48db-cdeb-021d9a6a9d44"
      },
      "source": [
        "afy = a[a[\"Station\"]==\"Fengyuan\"]\n",
        "print(afy[\"delay\"].mean())\n",
        "bfy = b[b[\"Station\"]==\"Fengyuan\"]\n",
        "print(bfy[\"delay\"].mean())\n",
        "dfy = d[d[\"Station\"]==\"Fengyuan\"]\n",
        "print(dfy[\"delay\"].mean())\n",
        "\n",
        "afyk = ak[ak[\"Station\"]==\"Fengyuan\"]\n",
        "print(afyk[\"delay\"].mean())\n",
        "bfyk = bk[bk[\"Station\"]==\"Fengyuan\"]\n",
        "print(bfyk[\"delay\"].mean())\n",
        "dfyk = dk[dk[\"Station\"]==\"Fengyuan\"]\n",
        "print(dfy[\"delay\"].mean())\n",
        "\n",
        "afyh = ah[ah[\"Station\"]==\"Fengyuan\"]\n",
        "print(afyh[\"delay\"].mean())\n",
        "bfyh = bh[bh[\"Station\"]==\"Fengyuan\"]\n",
        "print(bfyh[\"delay\"].mean())\n",
        "dfyh = dh[dh[\"Station\"]==\"Fengyuan\"]\n",
        "print(dfyh[\"delay\"].mean())"
      ],
      "execution_count": 215,
      "outputs": [
        {
          "output_type": "stream",
          "text": [
            "6.587677725118484\n",
            "3.1392827356130106\n",
            "1.5912205024105557\n",
            "7.964285714285714\n",
            "4.101593625498008\n",
            "1.5912205024105557\n",
            "13.755555555555556\n",
            "6.324427480916031\n",
            "2.7651245551601424\n"
          ],
          "name": "stdout"
        }
      ]
    },
    {
      "cell_type": "code",
      "metadata": {
        "colab": {
          "base_uri": "https://localhost:8080/"
        },
        "id": "t2cloN793K_U",
        "outputId": "4fb27331-4e8a-4485-b6ce-18d97a94cfa0"
      },
      "source": [
        "atc = a[a[\"Station\"]==\"Taichung\"]\n",
        "print(atc[\"delay\"].mean())\n",
        "btc = b[b[\"Station\"]==\"Taichung\"]\n",
        "print(btc[\"delay\"].mean())\n",
        "dtc = d[d[\"Station\"]==\"Taichung\"]\n",
        "print(dtc[\"delay\"].mean())\n",
        "\n",
        "atck = ak[ak[\"Station\"]==\"Taichung\"]\n",
        "print(atck[\"delay\"].mean())\n",
        "btck = bk[bk[\"Station\"]==\"Taichung\"]\n",
        "print(btck[\"delay\"].mean())\n",
        "dtck = dk[dk[\"Station\"]==\"Taichung\"]\n",
        "print(dtc[\"delay\"].mean())\n",
        "\n",
        "atch = ah[ah[\"Station\"]==\"Taichung\"]\n",
        "print(atch[\"delay\"].mean())\n",
        "btch = bh[bh[\"Station\"]==\"Taichung\"]\n",
        "print(btch[\"delay\"].mean())\n",
        "dtch = dh[dh[\"Station\"]==\"Taichung\"]\n",
        "print(dtch[\"delay\"].mean())"
      ],
      "execution_count": 216,
      "outputs": [
        {
          "output_type": "stream",
          "text": [
            "4.526912181303116\n",
            "2.7908351810790837\n",
            "1.4575406032482598\n",
            "6.364285714285714\n",
            "3.9086021505376345\n",
            "1.4575406032482598\n",
            "10.253333333333334\n",
            "6.040677966101695\n",
            "2.8779697624190064\n"
          ],
          "name": "stdout"
        }
      ]
    },
    {
      "cell_type": "code",
      "metadata": {
        "colab": {
          "base_uri": "https://localhost:8080/"
        },
        "id": "6rNUvKXC3QpM",
        "outputId": "4c4e7867-004c-401d-eb40-e2fb351c1712"
      },
      "source": [
        "ach = a[a[\"Station\"]==\"Changhua\"]\n",
        "print(ach[\"delay\"].mean())\n",
        "bch = b[b[\"Station\"]==\"Changhua\"]\n",
        "print(bch[\"delay\"].mean())\n",
        "dch = d[d[\"Station\"]==\"Changhua\"]\n",
        "print(dch[\"delay\"].mean())\n",
        "\n",
        "achk = ak[ak[\"Station\"]==\"Changhua\"]\n",
        "print(achk[\"delay\"].mean())\n",
        "bchk = bk[bk[\"Station\"]==\"Changhua\"]\n",
        "print(bchk[\"delay\"].mean())\n",
        "dchk = dk[dk[\"Station\"]==\"Changhua\"]\n",
        "print(dch[\"delay\"].mean())\n",
        "\n",
        "achh = ah[ah[\"Station\"]==\"Changhua\"]\n",
        "print(achh[\"delay\"].mean())\n",
        "bchh = bh[bh[\"Station\"]==\"Changhua\"]\n",
        "print(bchh[\"delay\"].mean())\n",
        "dchh = dh[dh[\"Station\"]==\"Changhua\"]\n",
        "print(dchh[\"delay\"].mean())"
      ],
      "execution_count": 217,
      "outputs": [
        {
          "output_type": "stream",
          "text": [
            "6.6263345195729535\n",
            "3.242093156986774\n",
            "2.1000589738549245\n",
            "8.580357142857142\n",
            "4.087267525035766\n",
            "2.1000589738549245\n",
            "11.766666666666667\n",
            "6.0\n",
            "3.391384051329056\n"
          ],
          "name": "stdout"
        }
      ]
    },
    {
      "cell_type": "code",
      "metadata": {
        "colab": {
          "base_uri": "https://localhost:8080/"
        },
        "id": "F6PnLux33afb",
        "outputId": "af6ba16b-8520-486d-eba1-ce9e13420782"
      },
      "source": [
        "ayl = a[a[\"Station\"]==\"Yuanlin\"]\n",
        "print(ayl[\"delay\"].mean())\n",
        "byl = b[b[\"Station\"]==\"Yuanlin\"]\n",
        "print(byl[\"delay\"].mean())\n",
        "dyl = d[d[\"Station\"]==\"Yuanlin\"]\n",
        "print(dyl[\"delay\"].mean())\n",
        "\n",
        "aylk = ak[ak[\"Station\"]==\"Yuanlin\"]\n",
        "print(aylk[\"delay\"].mean())\n",
        "bylk = bk[bk[\"Station\"]==\"Yuanlin\"]\n",
        "print(bylk[\"delay\"].mean())\n",
        "dylk = dk[dk[\"Station\"]==\"Yuanlin\"]\n",
        "print(dyl[\"delay\"].mean())\n",
        "\n",
        "aylh = ah[ah[\"Station\"]==\"Yuanlin\"]\n",
        "print(aylh[\"delay\"].mean())\n",
        "bylh = bh[bh[\"Station\"]==\"Yuanlin\"]\n",
        "print(bylh[\"delay\"].mean())\n",
        "dylh = dh[dh[\"Station\"]==\"Yuanlin\"]\n",
        "print(dylh[\"delay\"].mean())"
      ],
      "execution_count": 218,
      "outputs": [
        {
          "output_type": "stream",
          "text": [
            "8.371428571428572\n",
            "3.439434724091521\n",
            "1.9114402773400567\n",
            "12.125\n",
            "4.1993355481727574\n",
            "1.9114402773400567\n",
            "10.4\n",
            "6.485981308411215\n",
            "3.591111111111111\n"
          ],
          "name": "stdout"
        }
      ]
    },
    {
      "cell_type": "code",
      "metadata": {
        "colab": {
          "base_uri": "https://localhost:8080/"
        },
        "id": "kKLKvDmf3gxm",
        "outputId": "9837bfd8-6a86-4ee9-f196-7275dc050792"
      },
      "source": [
        "adl = a[a[\"Station\"]==\"Douliu\"]\n",
        "print(adl[\"delay\"].mean())\n",
        "bdl = b[b[\"Station\"]==\"Douliu\"]\n",
        "print(bdl[\"delay\"].mean())\n",
        "ddl = d[d[\"Station\"]==\"Douliu\"]\n",
        "print(ddl[\"delay\"].mean())\n",
        "\n",
        "adlk = ak[ak[\"Station\"]==\"Douliu\"]\n",
        "print(adlk[\"delay\"].mean())\n",
        "bdlk = bk[bk[\"Station\"]==\"Douliu\"]\n",
        "print(bdlk[\"delay\"].mean())\n",
        "ddlk = dk[dk[\"Station\"]==\"Douliu\"]\n",
        "print(ddl[\"delay\"].mean())\n",
        "\n",
        "adlh = ah[ah[\"Station\"]==\"Douliu\"]\n",
        "print(adlh[\"delay\"].mean())\n",
        "bdlh = bh[bh[\"Station\"]==\"Douliu\"]\n",
        "print(bdlh[\"delay\"].mean())\n",
        "ddlh = dh[dh[\"Station\"]==\"Douliu\"]\n",
        "print(ddlh[\"delay\"].mean())"
      ],
      "execution_count": 219,
      "outputs": [
        {
          "output_type": "stream",
          "text": [
            "5.745454545454545\n",
            "3.246551724137931\n",
            "1.9717925386715196\n",
            "11.681818181818182\n",
            "4.209503239740821\n",
            "1.9717925386715196\n",
            "13.333333333333334\n",
            "6.622641509433962\n",
            "4.028333333333333\n"
          ],
          "name": "stdout"
        }
      ]
    },
    {
      "cell_type": "code",
      "metadata": {
        "colab": {
          "base_uri": "https://localhost:8080/"
        },
        "id": "QbHIwKpb5ak5",
        "outputId": "be8f2209-e237-4e0b-ed93-80ba01a372eb"
      },
      "source": [
        "acy = a[a[\"Station\"]==\"Chiayi\"]\n",
        "print(acy[\"delay\"].mean())\n",
        "bcy = b[b[\"Station\"]==\"Chiayi\"]\n",
        "print(bcy[\"delay\"].mean())\n",
        "dcy = d[d[\"Station\"]==\"Chiayi\"]\n",
        "print(dcy[\"delay\"].mean())\n",
        "\n",
        "acyk = ak[ak[\"Station\"]==\"Chiayi\"]\n",
        "print(acyk[\"delay\"].mean())\n",
        "bcyk = bk[bk[\"Station\"]==\"Chiayi\"]\n",
        "print(bcyk[\"delay\"].mean())\n",
        "dcyk = dk[dk[\"Station\"]==\"Chiayi\"]\n",
        "print(dcy[\"delay\"].mean())\n",
        "\n",
        "acyh = ah[ah[\"Station\"]==\"Chiayi\"]\n",
        "print(acyh[\"delay\"].mean())\n",
        "bcyh = bh[bh[\"Station\"]==\"Chiayi\"]\n",
        "print(bcyh[\"delay\"].mean())\n",
        "dcyh = dh[dh[\"Station\"]==\"Chiayi\"]\n",
        "print(dcyh[\"delay\"].mean())"
      ],
      "execution_count": 220,
      "outputs": [
        {
          "output_type": "stream",
          "text": [
            "6.0\n",
            "4.225806451612903\n",
            "1.8245992601726264\n",
            "8.681818181818182\n",
            "5.480725623582766\n",
            "1.8245992601726264\n",
            "10.6\n",
            "7.61437908496732\n",
            "3.2542372881355934\n"
          ],
          "name": "stdout"
        }
      ]
    },
    {
      "cell_type": "code",
      "metadata": {
        "colab": {
          "base_uri": "https://localhost:8080/"
        },
        "id": "wlNN5DKi6r-e",
        "outputId": "3bfc5176-ea16-46aa-ea56-40d0f2da1340"
      },
      "source": [
        "atn = a[a[\"Station\"]==\"Tainan\"]\n",
        "print(atn[\"delay\"].mean())\n",
        "btn = b[b[\"Station\"]==\"Tainan\"]\n",
        "print(btn[\"delay\"].mean())\n",
        "dtn = d[d[\"Station\"]==\"Tainan\"]\n",
        "print(dtn[\"delay\"].mean())\n",
        "\n",
        "atnk = ak[ak[\"Station\"]==\"Tainan\"]\n",
        "print(atnk[\"delay\"].mean())\n",
        "btnk = bk[bk[\"Station\"]==\"Tainan\"]\n",
        "print(btnk[\"delay\"].mean())\n",
        "dtnk = dk[dk[\"Station\"]==\"Tainan\"]\n",
        "print(dtn[\"delay\"].mean())\n",
        "\n",
        "atnh = ah[ah[\"Station\"]==\"Tainan\"]\n",
        "print(atnh[\"delay\"].mean())\n",
        "btnh = bh[bh[\"Station\"]==\"Tainan\"]\n",
        "print(btnh[\"delay\"].mean())\n",
        "dtnh = dh[dh[\"Station\"]==\"Tainan\"]\n",
        "print(dtnh[\"delay\"].mean())"
      ],
      "execution_count": 221,
      "outputs": [
        {
          "output_type": "stream",
          "text": [
            "2.909090909090909\n",
            "3.6094017094017095\n",
            "1.0904399115261736\n",
            "4.409090909090909\n",
            "5.125269978401728\n",
            "1.0904399115261736\n",
            "5.2\n",
            "7.0\n",
            "1.4297297297297298\n"
          ],
          "name": "stdout"
        }
      ]
    },
    {
      "cell_type": "code",
      "metadata": {
        "colab": {
          "base_uri": "https://localhost:8080/"
        },
        "id": "0aVlJkOd626f",
        "outputId": "c81a311b-e2b8-45db-967b-1b26a96dd1d6"
      },
      "source": [
        "axzy = a[a[\"Station\"]==\"Xinzuoying\"]\n",
        "print(axzy[\"delay\"].mean())\n",
        "bxzy = b[b[\"Station\"]==\"Xinzuoying\"]\n",
        "print(bxzy[\"delay\"].mean())\n",
        "dxzy = d[d[\"Station\"]==\"Xinzuoying\"]\n",
        "print(dxzy[\"delay\"].mean())\n",
        "\n",
        "axzyk = ak[ak[\"Station\"]==\"Xinzuoying\"]\n",
        "print(axzyk[\"delay\"].mean())\n",
        "bxzyk = bk[bk[\"Station\"]==\"Xinzuoying\"]\n",
        "print(bxzyk[\"delay\"].mean())\n",
        "dxzyk = dk[dk[\"Station\"]==\"Xinzuoying\"]\n",
        "print(dxzy[\"delay\"].mean())\n",
        "\n",
        "axzyh = ah[ah[\"Station\"]==\"Xinzuoying\"]\n",
        "print(axzyh[\"delay\"].mean())\n",
        "bxzyh = bh[bh[\"Station\"]==\"Xinzuoying\"]\n",
        "print(bxzyh[\"delay\"].mean())\n",
        "dxzyh = dh[dh[\"Station\"]==\"Xinzuoying\"]\n",
        "print(dxzyh[\"delay\"].mean())"
      ],
      "execution_count": 222,
      "outputs": [
        {
          "output_type": "stream",
          "text": [
            "0.4727272727272727\n",
            "3.1010452961672472\n",
            "1.6334959349593496\n",
            "1.1590909090909092\n",
            "4.1447811447811445\n",
            "1.6334959349593496\n",
            "0.43333333333333335\n",
            "5.533834586466165\n",
            "2.0351089588377724\n"
          ],
          "name": "stdout"
        }
      ]
    },
    {
      "cell_type": "code",
      "metadata": {
        "colab": {
          "base_uri": "https://localhost:8080/"
        },
        "id": "pl8Lh3u67DNm",
        "outputId": "bac7624b-798a-490e-8fbd-cddad4c655e1"
      },
      "source": [
        "akh = a[a[\"Station\"]==\"Kaohsiung\"]\n",
        "print(akh[\"delay\"].mean())\n",
        "bkh = b[b[\"Station\"]==\"Kaohsiung\"]\n",
        "print(bkh[\"delay\"].mean())\n",
        "dkh = d[d[\"Station\"]==\"Kaohsiung\"]\n",
        "print(dkh[\"delay\"].mean())\n",
        "\n",
        "akhk = ak[ak[\"Station\"]==\"Kaohsiung\"]\n",
        "print(akhk[\"delay\"].mean())\n",
        "bkhk = bk[bk[\"Station\"]==\"Kaohsiung\"]\n",
        "print(bkhk[\"delay\"].mean())\n",
        "dkhk = dk[dk[\"Station\"]==\"Kaohsiung\"]\n",
        "print(dkh[\"delay\"].mean())\n",
        "\n",
        "akhh = ah[ah[\"Station\"]==\"Kaohsiung\"]\n",
        "print(akhh[\"delay\"].mean())\n",
        "bkhh = bh[bh[\"Station\"]==\"Kaohsiung\"]\n",
        "print(bkhh[\"delay\"].mean())\n",
        "dkhh = dh[dh[\"Station\"]==\"Kaohsiung\"]\n",
        "print(dkhh[\"delay\"].mean())"
      ],
      "execution_count": 223,
      "outputs": [
        {
          "output_type": "stream",
          "text": [
            "2.2590909090909093\n",
            "2.3969465648854964\n",
            "1.6341463414634145\n",
            "3.7613636363636362\n",
            "3.4165261382799326\n",
            "1.6341463414634145\n",
            "4.366666666666666\n",
            "4.8922305764411025\n",
            "2.1973365617433416\n"
          ],
          "name": "stdout"
        }
      ]
    }
  ]
}
